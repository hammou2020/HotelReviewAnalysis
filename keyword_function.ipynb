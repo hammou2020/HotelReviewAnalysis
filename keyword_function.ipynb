{
 "cells": [
  {
   "cell_type": "code",
   "execution_count": 1,
   "metadata": {},
   "outputs": [],
   "source": [
    "import re\n",
    "import time\n",
    "import nltk\n",
    "import pandas\n",
    "import operator\n",
    "from nltk.corpus import stopwords\n",
    "from os import path\n",
    "from PIL import Image\n",
    "from wordcloud import WordCloud, STOPWORDS, ImageColorGenerator\n",
    "import seaborn as sns\n",
    "from scipy.sparse import coo_matrix"
   ]
  },
  {
   "cell_type": "code",
   "execution_count": 2,
   "metadata": {},
   "outputs": [],
   "source": [
    "from tqdm import tqdm\n",
    "from pprint import pprint\n",
    "from collections import OrderedDict "
   ]
  },
  {
   "cell_type": "code",
   "execution_count": 3,
   "metadata": {},
   "outputs": [],
   "source": [
    "import matplotlib.pyplot as plt\n",
    "%matplotlib inline"
   ]
  },
  {
   "cell_type": "code",
   "execution_count": 4,
   "metadata": {},
   "outputs": [],
   "source": [
    "dataset = pandas.read_csv('Hotel_Reviews.csv')"
   ]
  },
  {
   "cell_type": "code",
   "execution_count": 5,
   "metadata": {},
   "outputs": [
    {
     "data": {
      "text/plain": [
       "\"\\n    Extra words to be added: \\n        'also', ''\\n\""
      ]
     },
     "execution_count": 5,
     "metadata": {},
     "output_type": "execute_result"
    }
   ],
   "source": [
    "stoplist = set(stopwords.words(\"english\"))\n",
    "stoplist = stoplist|{'one', 'us', 'would', 'like', 'even', 'get'}\n",
    "'''\n",
    "    Extra words to be added: \n",
    "        'also', ''\n",
    "'''"
   ]
  },
  {
   "cell_type": "code",
   "execution_count": 6,
   "metadata": {},
   "outputs": [],
   "source": [
    "from itertools import islice\n",
    "\n",
    "def take(n, iterable):\n",
    "    \"Return first n items of the iterable as a list\"\n",
    "    return list(islice(iterable, n))"
   ]
  },
  {
   "cell_type": "code",
   "execution_count": 7,
   "metadata": {},
   "outputs": [],
   "source": [
    "def sort_dict(d):\n",
    "    sorted_x = sorted(d.items(), key=operator.itemgetter(1), reverse= True)\n",
    "    return sorted_x"
   ]
  },
  {
   "cell_type": "code",
   "execution_count": 8,
   "metadata": {},
   "outputs": [],
   "source": [
    "def clean_text(text):\n",
    "    #Remove punctuations\n",
    "    text = re.sub('[^a-zA-Z]', ' ', text).lower()\n",
    "    #remove tags\n",
    "    text=re.sub(\"&lt;/?.*?&gt;\", \" &lt;&gt; \", text)\n",
    "    # remove special characters and digits\n",
    "    text=re.sub(\"(\\\\d|\\\\W)+\",\" \",text)\n",
    "    return text"
   ]
  },
  {
   "cell_type": "code",
   "execution_count": 9,
   "metadata": {},
   "outputs": [],
   "source": [
    "# def word_cloud(corpus):\n",
    "#     wordcloud = WordCloud(background_color='white',\n",
    "#                           stopwords=stopwords,\n",
    "#                           max_words=100,\n",
    "#                           max_font_size=50, \n",
    "#                           random_state=42).generate(str(corpus))\n",
    "#     fig = plt.figure(1)\n",
    "#     plt.imshow(wordcloud)\n",
    "#     plt.axis('off')\n",
    "#     plt.show()\n",
    "#     fig.savefig(\"word1.png\", dpi=900)"
   ]
  },
  {
   "cell_type": "code",
   "execution_count": 10,
   "metadata": {},
   "outputs": [],
   "source": [
    "def normalize(d):\n",
    "    '''\n",
    "    Purpose:\n",
    "        To normalize the value of occurance of keywords.\n",
    "    Args:\n",
    "        words_freq: (list) - list of keywords and occurance of each keyword(tuple).\n",
    "    Return:\n",
    "        Normalized value of the keywords: (list) - list of keywords and occurance of each keyword(tuple).\n",
    "    '''\n",
    "    min_val = min(d.values())\n",
    "    max_val = max(d.values())\n",
    "    for key, val in d.items():\n",
    "        try:\n",
    "            val = (val - min_val)/(max_val - min_val)\n",
    "        except ZeroDivisionError:\n",
    "            val = 0\n",
    "        d[key] = val\n",
    "    return d"
   ]
  },
  {
   "cell_type": "code",
   "execution_count": 11,
   "metadata": {},
   "outputs": [],
   "source": [
    "def uni_gram(text_list):\n",
    "    '''\n",
    "    Purpose:\n",
    "        To get unigram keyword's list from text of negative reviews.\n",
    "    Args:\n",
    "        text_list: (list) - list of cleaned reviews(string).\n",
    "    Return:\n",
    "        words_freq: (list) - list of keywords and occurance(normalized) of each keyword(tuple).\n",
    "    '''\n",
    "    d = dict()\n",
    "    for text in tqdm(text_list):\n",
    "        for w in text.split():\n",
    "            if(w in stoplist):    continue\n",
    "            d[w] = d.get(w, 0)+1\n",
    "    normalized_d = normalize(d)\n",
    "    words_freq = sort_dict(normalized_d)\n",
    "    return words_freq[:100], normalized_d"
   ]
  },
  {
   "cell_type": "code",
   "execution_count": 12,
   "metadata": {},
   "outputs": [],
   "source": [
    "def bi_gram(text_list):\n",
    "    '''\n",
    "    Purpose:\n",
    "        To get bigram keyword's list from text of negative reviews.\n",
    "    Args:\n",
    "        text_list: (list) - list of cleaned reviews(string).\n",
    "    Return:\n",
    "        words_freq: (list) - list of keywords and occurance(normalized) of each keyword(tuple).\n",
    "    '''\n",
    "    d = dict()\n",
    "    for text in tqdm(text_list):\n",
    "        for b in nltk.ngrams(text.split(),2):\n",
    "            if(b[0] in stoplist or b[1] in stoplist):   continue \n",
    "            w = \"{} {}\".format(b[0],b[1])\n",
    "            d[w] = d.get(w, 0)+1\n",
    "    normalized_d = normalize(d)\n",
    "    words_freq = sort_dict(d)\n",
    "    return words_freq[:100], normalized_d"
   ]
  },
  {
   "cell_type": "code",
   "execution_count": 13,
   "metadata": {},
   "outputs": [],
   "source": [
    "def tri_gram(text_list):\n",
    "    '''\n",
    "    Purpose:\n",
    "        To get trigram keyword's list from text of negative reviews.\n",
    "    Args:\n",
    "        text_list: (list) - list of cleaned reviews(string).\n",
    "    Return:\n",
    "        words_freq: (list) - list of keywords and occurance(normalized) of each keyword(tuple).\n",
    "    '''\n",
    "    d = dict()\n",
    "    for text in tqdm(text_list):\n",
    "        for b in nltk.ngrams(text.split(),3):\n",
    "            if(b[0] in stoplist or b[2] in stoplist):    continue\n",
    "            w = \"{} {} {}\".format(b[0],b[1],b[2])\n",
    "            d[w] = d.get(w, 0)+1\n",
    "    normalized_d = normalize(d)\n",
    "    words_freq = sort_dict(normalized_d)\n",
    "    return words_freq[:100], normalized_d"
   ]
  },
  {
   "cell_type": "code",
   "execution_count": 14,
   "metadata": {},
   "outputs": [],
   "source": [
    "def plot_freq_words(top_words):\n",
    "    #Convert most freq words to dataframe for plotting bar plot\n",
    "    top_df = pandas.DataFrame(top_words)\n",
    "    top_df.columns=[\"Word\", \"Freq\"]\n",
    "\n",
    "    #Barplot of most freq words\n",
    "\n",
    "    sns.set(rc={'figure.figsize':(13,8)})\n",
    "    g = sns.barplot(x=\"Word\", y=\"Freq\", data=top_df)\n",
    "    g.set_xticklabels(g.get_xticklabels(), rotation=30)"
   ]
  },
  {
   "cell_type": "code",
   "execution_count": 15,
   "metadata": {},
   "outputs": [],
   "source": [
    "def keyword_function(reviews):\n",
    "    \"\"\"\n",
    "    Purpose:\n",
    "        To extract keywords from the customer reviews.\n",
    "    Args:\n",
    "        reviews: (list) - list of review (str)\n",
    "    Return:\n",
    "        top keywords from reviews: (list) - list of keywords with number of occurances (tuple).\n",
    "    \"\"\"\n",
    "    print(\"Clean Data...\")\n",
    "    time.sleep(1)\n",
    "    clean_reviews = [clean_text(review) for review in tqdm(reviews)]\n",
    "    print(\"Get Unigrams...\")\n",
    "    time.sleep(1)\n",
    "    top_words_uni, uni_dict = uni_gram(clean_reviews)\n",
    "    print(\"Get Bigrams...\")\n",
    "    time.sleep(1)\n",
    "    top_words_bi, bi_dict = bi_gram(clean_reviews)\n",
    "    print(\"Get Trigrams...\")\n",
    "    time.sleep(1)\n",
    "    top_words_tri, tri_dict = tri_gram(clean_reviews)\n",
    "    return top_words_uni, uni_dict, top_words_bi, bi_dict, top_words_tri, tri_dict"
   ]
  },
  {
   "cell_type": "code",
   "execution_count": 16,
   "metadata": {
    "scrolled": true
   },
   "outputs": [
    {
     "name": "stdout",
     "output_type": "stream",
     "text": [
      "Clean Data...\n"
     ]
    },
    {
     "name": "stderr",
     "output_type": "stream",
     "text": [
      "100%|██████████| 515738/515738 [00:09<00:00, 52323.22it/s]\n"
     ]
    },
    {
     "name": "stdout",
     "output_type": "stream",
     "text": [
      "Get Unigrams...\n"
     ]
    },
    {
     "name": "stderr",
     "output_type": "stream",
     "text": [
      "100%|██████████| 515738/515738 [00:02<00:00, 222037.16it/s]\n"
     ]
    },
    {
     "name": "stdout",
     "output_type": "stream",
     "text": [
      "Get Bigrams...\n"
     ]
    },
    {
     "name": "stderr",
     "output_type": "stream",
     "text": [
      "100%|██████████| 515738/515738 [00:05<00:00, 94575.67it/s]\n"
     ]
    },
    {
     "name": "stdout",
     "output_type": "stream",
     "text": [
      "Get Trigrams...\n"
     ]
    },
    {
     "name": "stderr",
     "output_type": "stream",
     "text": [
      "100%|██████████| 515738/515738 [00:05<00:00, 91645.37it/s]\n"
     ]
    }
   ],
   "source": [
    "top_words_uni, uni_dict, top_words_bi, bi_dict, top_words_tri, tri_dict = keyword_function(dataset[\"Negative_Review\"])"
   ]
  },
  {
   "cell_type": "code",
   "execution_count": 17,
   "metadata": {},
   "outputs": [
    {
     "name": "stdout",
     "output_type": "stream",
     "text": [
      "[('value for money', 1.0),\n",
      " ('room was small', 0.7934936350777935),\n",
      " ('tea and coffee', 0.6845827439886846),\n",
      " ('could be better', 0.5676567656765676),\n",
      " ('room was tiny', 0.4394153701084394),\n",
      " ('room was quite', 0.4229137199434229),\n",
      " ('coffee making facilities', 0.41112682696841113),\n",
      " ('member of staff', 0.4045261669024045),\n",
      " ('room very small', 0.3983969825553984),\n",
      " ('think of anything', 0.39603960396039606),\n",
      " ('bottle of water', 0.35454974068835454),\n",
      " ('rooms are small', 0.3517208863743517),\n",
      " ('nothing to dislike', 0.34842055634134844),\n",
      " ('everything was perfect', 0.3187175860443187),\n",
      " ('worth the money', 0.31211692597831214),\n",
      " ('room a bit', 0.3116454502593116),\n",
      " ('tea or coffee', 0.3107024988213107),\n",
      " ('two single beds', 0.305987741631306),\n",
      " ('room a little', 0.29655822725129655),\n",
      " ('lot of noise', 0.2960867515322961),\n",
      " ('around the hotel', 0.27864214992927866),\n",
      " ('room too small', 0.27864214992927866),\n",
      " ('everything was great', 0.2781706742102782),\n",
      " ('open the window', 0.2743988684582744),\n",
      " ('room and bathroom', 0.2626119754832626),\n",
      " ('nothing to complain', 0.2626119754832626),\n",
      " ('late at night', 0.2531824611032532),\n",
      " ('noisy at night', 0.2522395096652522),\n",
      " ('outside the hotel', 0.24893917963224893),\n",
      " ('check in time', 0.24705327675624705),\n",
      " ('could be improved', 0.24658180103724658),\n",
      " ('size of room', 0.2446958981612447),\n",
      " ('breakfast not included', 0.24186704384724186),\n",
      " ('breakfast was poor', 0.24045261669024046),\n",
      " ('four star hotel', 0.22866572371522867),\n",
      " ('hard to find', 0.22725129655822726),\n",
      " ('difficult to find', 0.2248939179632249),\n",
      " ('front desk staff', 0.22347949080622348),\n",
      " ('facilities in room', 0.2215935879302216),\n",
      " ('given a room', 0.2215935879302216),\n",
      " ('half an hour', 0.2197076850542197),\n",
      " ('beds pushed together', 0.21923620933521923),\n",
      " ('room is small', 0.21876473361621876),\n",
      " ('could have done', 0.2164073550212164),\n",
      " ('room was really', 0.21593587930221594),\n",
      " ('room was cold', 0.214992927864215),\n",
      " ('room was extremely', 0.21357850070721357),\n",
      " ('recommend this hotel', 0.2116925978312117),\n",
      " ('breakfast was expensive', 0.21074964639321075),\n",
      " ('tea coffee making', 0.20933521923620935),\n",
      " ('tea making facilities', 0.20886374351720888),\n",
      " ('cup of tea', 0.1999057048561999),\n",
      " ('clean the room', 0.19754832626119756),\n",
      " ('far from city', 0.19141914191419143),\n",
      " ('inside the room', 0.18623290900518624),\n",
      " ('booked a double', 0.18010372465818011),\n",
      " ('price of breakfast', 0.17963224893917965),\n",
      " ('around the bed', 0.17208863743517208),\n",
      " ('room service menu', 0.1716171617161716),\n",
      " ('breakfast was included', 0.16925978312116927),\n",
      " ('staff were rude', 0.16501650165016502),\n",
      " ('across the road', 0.16454502593116455),\n",
      " ('bed was uncomfortable', 0.1617161716171617),\n",
      " ('staff at reception', 0.16077322017916076),\n",
      " ('room next door', 0.1588873173031589),\n",
      " ('breakfast too expensive', 0.157001414427157),\n",
      " ('price we paid', 0.15652993870815654),\n",
      " ('breakfast was good', 0.15417256011315417),\n",
      " ('king size bed', 0.1522866572371523),\n",
      " ('open the windows', 0.15087223008015088),\n",
      " ('booked a room', 0.15087223008015088),\n",
      " ('breakfast was ok', 0.14945780292314945),\n",
      " ('booked this hotel', 0.14945780292314945),\n",
      " ('rooms very small', 0.14615747289014616),\n",
      " ('smaller than expected', 0.14615747289014616),\n",
      " ('single beds pushed', 0.14427157001414428),\n",
      " ('tea coffee facilities', 0.14285714285714285),\n",
      " ('felt a bit', 0.1419141914191419),\n",
      " ('small for two', 0.1419141914191419),\n",
      " ('breakfast was cold', 0.14097123998114097),\n",
      " ('free wi fi', 0.13955681282413956),\n",
      " ('far too small', 0.13861386138613863),\n",
      " ('room was smaller', 0.13672795851013672),\n",
      " ('throughout the night', 0.13484205563413484),\n",
      " ('change the room', 0.1338991041961339),\n",
      " ('bottles of water', 0.13342762847713344),\n",
      " ('coffee in room', 0.13342762847713344),\n",
      " ('room the room', 0.1324846770391325),\n",
      " ('fire alarm went', 0.132013201320132),\n",
      " ('everything was fine', 0.12965582272512965),\n",
      " ('across the street', 0.12965582272512965),\n",
      " ('staff at breakfast', 0.12824139556812825),\n",
      " ('everything was good', 0.12824139556812825),\n",
      " ('could not sleep', 0.12776991984912778),\n",
      " ('coffee and tea', 0.12682696841112684),\n",
      " ('could hear everything', 0.12588401697312587),\n",
      " ('got a room', 0.12588401697312587),\n",
      " ('rooms were small', 0.12588401697312587),\n",
      " ('service at breakfast', 0.12446958981612447),\n",
      " ('room service food', 0.12446958981612447)]\n"
     ]
    }
   ],
   "source": [
    "pprint(top_words_tri)"
   ]
  },
  {
   "cell_type": "code",
   "execution_count": 18,
   "metadata": {},
   "outputs": [],
   "source": [
    "neg_reviews = list(dataset[\"Negative_Review\"])"
   ]
  },
  {
   "cell_type": "code",
   "execution_count": 19,
   "metadata": {},
   "outputs": [
    {
     "data": {
      "text/plain": [
       "' I am so angry that i made this post available via all possible sites i use when planing my trips so no one will make the mistake of booking this place I made my booking via booking com We stayed for 6 nights in this hotel from 11 to 17 July Upon arrival we were placed in a small room on the 2nd floor of the hotel It turned out that this was not the room we booked I had specially reserved the 2 level duplex room so that we would have a big windows and high ceilings The room itself was ok if you don t mind the broken window that can not be closed hello rain and a mini fridge that contained some sort of a bio weapon at least i guessed so by the smell of it I intimately asked to change the room and after explaining 2 times that i booked a duplex btw it costs the same as a simple double but got way more volume due to the high ceiling was offered a room but only the next day SO i had to check out the next day before 11 o clock in order to get the room i waned to Not the best way to begin your holiday So we had to wait till 13 00 in order to check in my new room what a wonderful waist of my time The room 023 i got was just as i wanted to peaceful internal garden view big window We were tired from waiting the room so we placed our belongings and rushed to the city In the evening it turned out that there was a constant noise in the room i guess it was made by vibrating vent tubes or something it was constant and annoying as hell AND it did not stop even at 2 am making it hard to fall asleep for me and my wife I have an audio recording that i can not attach here but if you want i can send it via e mail The next day the technician came but was not able to determine the cause of the disturbing sound so i was offered to change the room once again the hotel was fully booked and they had only 1 room left the one that was smaller but seems newer '"
      ]
     },
     "execution_count": 19,
     "metadata": {},
     "output_type": "execute_result"
    }
   ],
   "source": [
    "neg_reviews[0]"
   ]
  },
  {
   "cell_type": "code",
   "execution_count": 20,
   "metadata": {},
   "outputs": [],
   "source": [
    "neg_review_subset = [(i,r) for i,r in enumerate(neg_reviews) if \"everything was perfect\" in r]"
   ]
  },
  {
   "cell_type": "code",
   "execution_count": 21,
   "metadata": {},
   "outputs": [
    {
     "data": {
      "text/plain": [
       "253"
      ]
     },
     "execution_count": 21,
     "metadata": {},
     "output_type": "execute_result"
    }
   ],
   "source": [
    "len(neg_review_subset)"
   ]
  },
  {
   "cell_type": "code",
   "execution_count": 22,
   "metadata": {},
   "outputs": [
    {
     "data": {
      "text/plain": [
       "(1811, ' no bad experience everything was perfect')"
      ]
     },
     "execution_count": 22,
     "metadata": {},
     "output_type": "execute_result"
    }
   ],
   "source": [
    "neg_review_subset[0]"
   ]
  },
  {
   "cell_type": "code",
   "execution_count": 23,
   "metadata": {},
   "outputs": [
    {
     "data": {
      "text/plain": [
       "Hotel_Address                                 1 2 Serjeant s Inn Fleet Street City of London...\n",
       "Additional_Number_of_Scoring                                                                639\n",
       "Review_Date                                                                            2/2/2016\n",
       "Average_Score                                                                               9.2\n",
       "Hotel_Name                                                              Apex Temple Court Hotel\n",
       "Reviewer_Nationality                                                            United Kingdom \n",
       "Negative_Review                                        no bad experience everything was perfect\n",
       "Review_Total_Negative_Word_Counts                                                             7\n",
       "Total_Number_of_Reviews                                                                    2619\n",
       "Positive_Review                                                       size of room and location\n",
       "Review_Total_Positive_Word_Counts                                                             6\n",
       "Total_Number_of_Reviews_Reviewer_Has_Given                                                   16\n",
       "Reviewer_Score                                                                               10\n",
       "Tags                                          [' Leisure trip ', ' Couple ', ' City King Roo...\n",
       "days_since_review                                                                       548 day\n",
       "lat                                                                                     51.5137\n",
       "lng                                                                                   -0.108751\n",
       "Name: 1811, dtype: object"
      ]
     },
     "execution_count": 23,
     "metadata": {},
     "output_type": "execute_result"
    }
   ],
   "source": [
    "dataset.iloc[1811]"
   ]
  },
  {
   "cell_type": "code",
   "execution_count": 24,
   "metadata": {},
   "outputs": [
    {
     "data": {
      "text/plain": [
       "\"[' Business trip ', ' Solo traveler ', ' Deluxe Single Room ', ' Stayed 1 night ', ' Submitted from a mobile device ']\""
      ]
     },
     "execution_count": 24,
     "metadata": {},
     "output_type": "execute_result"
    }
   ],
   "source": [
    "dataset.iloc[9917]['Tags']"
   ]
  },
  {
   "cell_type": "code",
   "execution_count": 25,
   "metadata": {},
   "outputs": [
    {
     "name": "stderr",
     "output_type": "stream",
     "text": [
      "515738it [00:48, 10725.90it/s]\n"
     ]
    }
   ],
   "source": [
    "#selecting negative reviews for reviewer score <= 7 and storing it into list \"reviews\"\n",
    "reviews = list()\n",
    "for i, row in tqdm(dataset.iterrows()):\n",
    "    neg_review = row['Negative_Review']\n",
    "    reviewer_score = row['Reviewer_Score']\n",
    "    if(reviewer_score<=7 and neg_review!=\"Nothing\"):\n",
    "        reviews.append(neg_review)"
   ]
  },
  {
   "cell_type": "code",
   "execution_count": 26,
   "metadata": {},
   "outputs": [
    {
     "data": {
      "text/plain": [
       "87262"
      ]
     },
     "execution_count": 26,
     "metadata": {},
     "output_type": "execute_result"
    }
   ],
   "source": [
    "len(reviews)"
   ]
  },
  {
   "cell_type": "code",
   "execution_count": 27,
   "metadata": {},
   "outputs": [
    {
     "data": {
      "text/plain": [
       "' Even though the pictures show very clean rooms the actual room was quit dirty and outlived Also check in is at 15 o clock but our room was not ready at that time'"
      ]
     },
     "execution_count": 27,
     "metadata": {},
     "output_type": "execute_result"
    }
   ],
   "source": [
    "reviews[5]"
   ]
  },
  {
   "cell_type": "code",
   "execution_count": 28,
   "metadata": {},
   "outputs": [
    {
     "name": "stdout",
     "output_type": "stream",
     "text": [
      "Clean Data...\n"
     ]
    },
    {
     "name": "stderr",
     "output_type": "stream",
     "text": [
      "100%|██████████| 87262/87262 [00:03<00:00, 28403.49it/s]\n"
     ]
    },
    {
     "name": "stdout",
     "output_type": "stream",
     "text": [
      "Get Unigrams...\n"
     ]
    },
    {
     "name": "stderr",
     "output_type": "stream",
     "text": [
      "100%|██████████| 87262/87262 [00:00<00:00, 111421.06it/s]\n"
     ]
    },
    {
     "name": "stdout",
     "output_type": "stream",
     "text": [
      "Get Bigrams...\n"
     ]
    },
    {
     "name": "stderr",
     "output_type": "stream",
     "text": [
      "100%|██████████| 87262/87262 [00:01<00:00, 45507.94it/s]\n"
     ]
    },
    {
     "name": "stdout",
     "output_type": "stream",
     "text": [
      "Get Trigrams...\n"
     ]
    },
    {
     "name": "stderr",
     "output_type": "stream",
     "text": [
      "100%|██████████| 87262/87262 [00:02<00:00, 43342.77it/s]\n"
     ]
    }
   ],
   "source": [
    "#Keywords of Negative reviews after filtering out non negative reviews if reviewer score is >= 7.\n",
    "top_words_uni, uni_dict, top_words_bi, bi_dict, top_words_tri, tri_dict = keyword_function(reviews)"
   ]
  },
  {
   "cell_type": "code",
   "execution_count": 29,
   "metadata": {
    "scrolled": true
   },
   "outputs": [
    {
     "name": "stdout",
     "output_type": "stream",
     "text": [
      "[('room', 1.0),\n",
      " ('hotel', 0.4613859994377284),\n",
      " ('staff', 0.2763705369693562),\n",
      " ('small', 0.24233904976103457),\n",
      " ('breakfast', 0.21429575484959235),\n",
      " ('rooms', 0.20293786899072253),\n",
      " ('bed', 0.17621591228563396),\n",
      " ('bathroom', 0.13765813888107956),\n",
      " ('night', 0.13637897104301377),\n",
      " ('poor', 0.11553275231937025),\n",
      " ('service', 0.11452066348046107),\n",
      " ('could', 0.11449254990160247),\n",
      " ('reception', 0.11007871802080404),\n",
      " ('shower', 0.10404835535563678),\n",
      " ('stay', 0.09931121731796458),\n",
      " ('also', 0.09225470902445881),\n",
      " ('check', 0.09131290413269609),\n",
      " ('time', 0.08920438571830194),\n",
      " ('old', 0.08403148720832163),\n",
      " ('day', 0.08342704526286196),\n",
      " ('floor', 0.07826820354231094),\n",
      " ('booking', 0.07672195670508855),\n",
      " ('told', 0.07649704807421985),\n",
      " ('water', 0.0763845937587855),\n",
      " ('good', 0.07597694686533596),\n",
      " ('asked', 0.07554118639302783),\n",
      " ('work', 0.07426201855496205),\n",
      " ('really', 0.07324992971605285),\n",
      " ('noisy', 0.0728844531908912),\n",
      " ('air', 0.07278605566488613),\n",
      " ('bad', 0.07218161371942648),\n",
      " ('price', 0.07083216193421422),\n",
      " ('bar', 0.07036828788304751),\n",
      " ('star', 0.06893449536125949),\n",
      " ('booked', 0.06835816699465842),\n",
      " ('door', 0.0651672757942086),\n",
      " ('got', 0.06414113016587011),\n",
      " ('dirty', 0.06352263143098116),\n",
      " ('money', 0.06260894011807704),\n",
      " ('two', 0.06173741917346078),\n",
      " ('back', 0.05885577734045544),\n",
      " ('first', 0.05691594039921282),\n",
      " ('clean', 0.05683159966263705),\n",
      " ('double', 0.05662074782119764),\n",
      " ('noise', 0.05662074782119764),\n",
      " ('hot', 0.05655046387405117),\n",
      " ('next', 0.05632555524318246),\n",
      " ('expensive', 0.054821478774247964),\n",
      " ('paid', 0.05452628619623278),\n",
      " ('cold', 0.05310655046387405),\n",
      " ('never', 0.053036266516727576),\n",
      " ('location', 0.0524880517289851),\n",
      " ('window', 0.052403710992409334),\n",
      " ('much', 0.05134945178521226),\n",
      " ('tiny', 0.05047793084059601),\n",
      " ('pay', 0.05044981726173742),\n",
      " ('morning', 0.050435760472308126),\n",
      " ('people', 0.05040764689344954),\n",
      " ('rude', 0.0490019679505201),\n",
      " ('said', 0.04891762721394433),\n",
      " ('sleep', 0.04870677537250492),\n",
      " ('made', 0.04838346921563115),\n",
      " ('wifi', 0.04832724205791397),\n",
      " ('working', 0.048172617374191734),\n",
      " ('better', 0.04815856058476244),\n",
      " ('food', 0.048130447005903854),\n",
      " ('need', 0.04803204947989879),\n",
      " ('stayed', 0.04425077312341861),\n",
      " ('beds', 0.043800955861681194),\n",
      " ('coffee', 0.043786899072251896),\n",
      " ('area', 0.04283103739105988),\n",
      " ('open', 0.04280292381220129),\n",
      " ('go', 0.04266235591790835),\n",
      " ('facilities', 0.042521788023615406),\n",
      " ('bit', 0.04211414113016587),\n",
      " ('around', 0.041903289288726456),\n",
      " ('restaurant', 0.040877143660387964),\n",
      " ('toilet', 0.040806859713241495),\n",
      " ('given', 0.039612032611751474),\n",
      " ('view', 0.039513635085746415),\n",
      " ('uncomfortable', 0.039485521506887826),\n",
      " ('little', 0.03945740792802924),\n",
      " ('quite', 0.03935901040202418),\n",
      " ('extra', 0.039344953612594886),\n",
      " ('another', 0.03928872645487771),\n",
      " ('well', 0.03913410177115547),\n",
      " ('way', 0.03858588698341299),\n",
      " ('use', 0.03857183019398369),\n",
      " ('nothing', 0.038346921563114984),\n",
      " ('desk', 0.038178240089963456),\n",
      " ('front', 0.03734888951363509),\n",
      " ('left', 0.03725049198763002),\n",
      " ('far', 0.037067753725049196),\n",
      " ('still', 0.03675850435760472),\n",
      " ('arrived', 0.03666010683159966),\n",
      " ('outside', 0.03663199325274107),\n",
      " ('tv', 0.036378971043013776),\n",
      " ('card', 0.03512791678380658),\n",
      " ('negative', 0.0350857464155187),\n",
      " ('everything', 0.03487489457407928)]\n"
     ]
    }
   ],
   "source": [
    "pprint(top_words_uni)"
   ]
  },
  {
   "cell_type": "code",
   "execution_count": 30,
   "metadata": {
    "scrolled": true
   },
   "outputs": [
    {
     "name": "stdout",
     "output_type": "stream",
     "text": [
      "[('star hotel', 1.0),\n",
      " ('room service', 0.9029469548133595),\n",
      " ('booking com', 0.8821218074656189),\n",
      " ('small room', 0.8601178781925344),\n",
      " ('air conditioning', 0.8349705304518664),\n",
      " ('front desk', 0.556385068762279),\n",
      " ('double bed', 0.4593320235756385),\n",
      " ('air con', 0.4475442043222004),\n",
      " ('double room', 0.4298624754420432),\n",
      " ('reception staff', 0.4019646365422397),\n",
      " ('mini bar', 0.3611001964636542),\n",
      " ('hot water', 0.35009823182711197),\n",
      " ('credit card', 0.33398821218074654),\n",
      " ('small rooms', 0.3292730844793713),\n",
      " ('next day', 0.3288801571709234),\n",
      " ('could hear', 0.324950884086444),\n",
      " ('customer service', 0.3045186640471513),\n",
      " ('another room', 0.3037328094302554),\n",
      " ('per night', 0.3009823182711198),\n",
      " ('first night', 0.27072691552062866),\n",
      " ('next door', 0.2554027504911591),\n",
      " ('th floor', 0.25343811394891946),\n",
      " ('single beds', 0.23104125736738704),\n",
      " ('hotel room', 0.22318271119842828),\n",
      " ('breakfast room', 0.22121807465618862),\n",
      " ('wi fi', 0.21768172888015716),\n",
      " ('extremely small', 0.21532416502946955),\n",
      " ('room size', 0.21414538310412573),\n",
      " ('hotel staff', 0.21100196463654225),\n",
      " ('stars hotel', 0.2106090373280943),\n",
      " ('tiny room', 0.21021611001964635),\n",
      " ('ground floor', 0.20078585461689588),\n",
      " ('four star', 0.19960707269155206),\n",
      " ('first room', 0.1948919449901768),\n",
      " ('single room', 0.19410609037328094),\n",
      " ('much better', 0.19214145383104125),\n",
      " ('swimming pool', 0.18703339882121808),\n",
      " ('twin room', 0.1850687622789784),\n",
      " ('free wifi', 0.17445972495088408),\n",
      " ('poor quality', 0.16895874263261296),\n",
      " ('poor breakfast', 0.16777996070726917),\n",
      " ('car park', 0.1662082514734774),\n",
      " ('superior room', 0.16463654223968566),\n",
      " ('air conditioner', 0.16227897838899805),\n",
      " ('every time', 0.16149312377210215),\n",
      " ('long time', 0.15638506876227898),\n",
      " ('go back', 0.15599214145383103),\n",
      " ('first time', 0.15402750491159137),\n",
      " ('poor service', 0.15324165029469547),\n",
      " ('next morning', 0.14931237721021612),\n",
      " ('came back', 0.14891944990176817),\n",
      " ('air condition', 0.14459724950884087),\n",
      " ('first day', 0.14263261296660118),\n",
      " ('every day', 0.1418467583497053),\n",
      " ('tea coffee', 0.1418467583497053),\n",
      " ('really bad', 0.14145383104125736),\n",
      " ('come back', 0.13831041257367388),\n",
      " ('another hotel', 0.13791748526522593),\n",
      " ('staff member', 0.137524557956778),\n",
      " ('two single', 0.1367387033398821),\n",
      " ('room without', 0.13595284872298624),\n",
      " ('two people', 0.13595284872298624),\n",
      " ('house keeping', 0.13477406679764245),\n",
      " ('pushed together', 0.13398821218074655),\n",
      " ('fire alarm', 0.1324165029469548),\n",
      " ('bad smell', 0.13163064833005894),\n",
      " ('standard room', 0.131237721021611),\n",
      " ('pay extra', 0.1300589390962672),\n",
      " ('hotel needs', 0.12848722986247543),\n",
      " ('room next', 0.1280943025540275),\n",
      " ('bathroom door', 0.12770137524557956),\n",
      " ('far away', 0.12730844793713164),\n",
      " ('desk staff', 0.12612966601178782),\n",
      " ('executive room', 0.12534381139489195),\n",
      " ('old furniture', 0.12534381139489195),\n",
      " ('work properly', 0.12455795677799607),\n",
      " ('small bathroom', 0.12298624754420433),\n",
      " ('never stay', 0.12259332023575638),\n",
      " ('really small', 0.12102161100196464),\n",
      " ('noisy room', 0.1206286836935167),\n",
      " ('city center', 0.1206286836935167),\n",
      " ('upon arrival', 0.11905697445972495),\n",
      " ('sofa bed', 0.11748526522593321),\n",
      " ('per day', 0.11709233791748526),\n",
      " ('several times', 0.11512770137524558),\n",
      " ('two nights', 0.11512770137524558),\n",
      " ('first floor', 0.11473477406679765),\n",
      " ('rude staff', 0.1143418467583497),\n",
      " ('old fashioned', 0.1143418467583497),\n",
      " ('second day', 0.11355599214145383),\n",
      " ('late check', 0.11277013752455796),\n",
      " ('twin beds', 0.11237721021611002),\n",
      " ('shower head', 0.11080550098231827),\n",
      " ('night stay', 0.11041257367387033),\n",
      " ('uncomfortable bed', 0.11041257367387033),\n",
      " ('bar staff', 0.10962671905697446),\n",
      " ('bad experience', 0.10648330058939097),\n",
      " ('room small', 0.10491159135559922),\n",
      " ('small bed', 0.10412573673870335),\n",
      " ('poor value', 0.1037328094302554)]\n"
     ]
    }
   ],
   "source": [
    "pprint(top_words_bi)"
   ]
  },
  {
   "cell_type": "code",
   "execution_count": 31,
   "metadata": {
    "scrolled": true
   },
   "outputs": [
    {
     "name": "stdout",
     "output_type": "stream",
     "text": [
      "[('value for money', 1.0),\n",
      " ('room was small', 0.49535864978902955),\n",
      " ('room was tiny', 0.48438818565400843),\n",
      " ('worth the money', 0.3763713080168776),\n",
      " ('room very small', 0.32489451476793246),\n",
      " ('member of staff', 0.30464135021097044),\n",
      " ('recommend this hotel', 0.27848101265822783),\n",
      " ('four star hotel', 0.26751054852320677),\n",
      " ('room too small', 0.24135021097046414),\n",
      " ('bottle of water', 0.23966244725738398),\n",
      " ('tea and coffee', 0.2371308016877637),\n",
      " ('staff were rude', 0.23375527426160336),\n",
      " ('two single beds', 0.22616033755274262),\n",
      " ('given a room', 0.21940928270042195),\n",
      " ('room was extremely', 0.21518987341772153),\n",
      " ('front desk staff', 0.21265822784810126),\n",
      " ('clean the room', 0.19746835443037974),\n",
      " ('lot of noise', 0.19324894514767932),\n",
      " ('room was cold', 0.18565400843881857),\n",
      " ('room was dirty', 0.18227848101265823),\n",
      " ('open the window', 0.17974683544303796),\n",
      " ('room and bathroom', 0.17890295358649788),\n",
      " ('tea or coffee', 0.17721518987341772),\n",
      " ('booked a double', 0.17637130801687764),\n",
      " ('half an hour', 0.17215189873417722),\n",
      " ('check in time', 0.16962025316455695),\n",
      " ('rooms are small', 0.1670886075949367),\n",
      " ('breakfast was poor', 0.16455696202531644),\n",
      " ('size of room', 0.15864978902953586),\n",
      " ('bed was uncomfortable', 0.15780590717299578),\n",
      " ('booked this hotel', 0.15780590717299578),\n",
      " ('change the room', 0.1569620253164557),\n",
      " ('staff at reception', 0.1569620253164557),\n",
      " ('around the bed', 0.15527426160337554),\n",
      " ('room was really', 0.15527426160337554),\n",
      " ('inside the room', 0.15443037974683543),\n",
      " ('could not sleep', 0.1518987341772152),\n",
      " ('beds pushed together', 0.150210970464135),\n",
      " ('room was quite', 0.14177215189873418),\n",
      " ('rooms very small', 0.13839662447257384),\n",
      " ('around the hotel', 0.13839662447257384),\n",
      " ('room the room', 0.1358649789029536),\n",
      " ('booked a room', 0.1341772151898734),\n",
      " ('outside the hotel', 0.12658227848101267),\n",
      " ('far too small', 0.1257383966244726),\n",
      " ('late at night', 0.12236286919831224),\n",
      " ('price we paid', 0.12067510548523207),\n",
      " ('tried to charge', 0.12067510548523207),\n",
      " ('coffee making facilities', 0.12067510548523207),\n",
      " ('amount of money', 0.11645569620253164),\n",
      " ('king size bed', 0.11223628691983123),\n",
      " ('need of refurbishment', 0.11139240506329114),\n",
      " ('worth the price', 0.10970464135021098),\n",
      " ('lot of money', 0.10886075949367088),\n",
      " ('single beds pushed', 0.10886075949367088),\n",
      " ('room next door', 0.1080168776371308),\n",
      " ('check in staff', 0.1080168776371308),\n",
      " ('moved to another', 0.1080168776371308),\n",
      " ('poor customer service', 0.1080168776371308),\n",
      " ('way too small', 0.10717299578059072),\n",
      " ('got a room', 0.10548523206751055),\n",
      " ('across the road', 0.10548523206751055),\n",
      " ('rude and unhelpful', 0.10548523206751055),\n",
      " ('open the door', 0.10548523206751055),\n",
      " ('room is small', 0.10464135021097046),\n",
      " ('asked to change', 0.10379746835443038),\n",
      " ('throughout the night', 0.10042194092827005),\n",
      " ('rooms are tiny', 0.09957805907172995),\n",
      " ('staff was rude', 0.09873417721518987),\n",
      " ('cup of tea', 0.0970464135021097),\n",
      " ('noisy at night', 0.0970464135021097),\n",
      " ('room was also', 0.09620253164556962),\n",
      " ('definitely not worth', 0.09620253164556962),\n",
      " ('could hear everything', 0.09535864978902954),\n",
      " ('far from city', 0.09535864978902954),\n",
      " ('via booking com', 0.09451476793248945),\n",
      " ('impossible to sleep', 0.09451476793248945),\n",
      " ('booked the hotel', 0.09282700421940929),\n",
      " ('could be better', 0.09282700421940929),\n",
      " ('open the windows', 0.0919831223628692),\n",
      " ('non smoking room', 0.0919831223628692),\n",
      " ('nothing was done', 0.09029535864978903),\n",
      " ('five star hotel', 0.09029535864978903),\n",
      " ('time of booking', 0.08945147679324894),\n",
      " ('rooms were small', 0.08945147679324894),\n",
      " ('hotel is old', 0.08945147679324894),\n",
      " ('room was freezing', 0.08776371308016878),\n",
      " ('room was old', 0.08776371308016878),\n",
      " ('small for two', 0.08691983122362869),\n",
      " ('breakfast was cold', 0.08691983122362869),\n",
      " ('fire alarm went', 0.08607594936708861),\n",
      " ('small and cramped', 0.08607594936708861),\n",
      " ('room was far', 0.08438818565400844),\n",
      " ('entered the room', 0.08354430379746836),\n",
      " ('bathroom was tiny', 0.08354430379746836),\n",
      " ('hard to find', 0.08354430379746836),\n",
      " ('facilities in room', 0.08354430379746836),\n",
      " ('asked to pay', 0.08270042194092828),\n",
      " ('price i paid', 0.08185654008438818),\n",
      " ('staff on reception', 0.08185654008438818)]\n"
     ]
    }
   ],
   "source": [
    "pprint(top_words_tri)"
   ]
  },
  {
   "cell_type": "code",
   "execution_count": 32,
   "metadata": {
    "scrolled": true
   },
   "outputs": [
    {
     "name": "stdout",
     "output_type": "stream",
     "text": [
      "{'a',\n",
      " 'about',\n",
      " 'above',\n",
      " 'after',\n",
      " 'again',\n",
      " 'against',\n",
      " 'ain',\n",
      " 'all',\n",
      " 'am',\n",
      " 'an',\n",
      " 'and',\n",
      " 'any',\n",
      " 'are',\n",
      " 'aren',\n",
      " \"aren't\",\n",
      " 'as',\n",
      " 'at',\n",
      " 'be',\n",
      " 'because',\n",
      " 'been',\n",
      " 'before',\n",
      " 'being',\n",
      " 'below',\n",
      " 'between',\n",
      " 'both',\n",
      " 'but',\n",
      " 'by',\n",
      " 'can',\n",
      " 'couldn',\n",
      " \"couldn't\",\n",
      " 'd',\n",
      " 'did',\n",
      " 'didn',\n",
      " \"didn't\",\n",
      " 'do',\n",
      " 'does',\n",
      " 'doesn',\n",
      " \"doesn't\",\n",
      " 'doing',\n",
      " 'don',\n",
      " \"don't\",\n",
      " 'down',\n",
      " 'during',\n",
      " 'each',\n",
      " 'even',\n",
      " 'few',\n",
      " 'for',\n",
      " 'from',\n",
      " 'further',\n",
      " 'get',\n",
      " 'had',\n",
      " 'hadn',\n",
      " \"hadn't\",\n",
      " 'has',\n",
      " 'hasn',\n",
      " \"hasn't\",\n",
      " 'have',\n",
      " 'haven',\n",
      " \"haven't\",\n",
      " 'having',\n",
      " 'he',\n",
      " 'her',\n",
      " 'here',\n",
      " 'hers',\n",
      " 'herself',\n",
      " 'him',\n",
      " 'himself',\n",
      " 'his',\n",
      " 'how',\n",
      " 'i',\n",
      " 'if',\n",
      " 'in',\n",
      " 'into',\n",
      " 'is',\n",
      " 'isn',\n",
      " \"isn't\",\n",
      " 'it',\n",
      " \"it's\",\n",
      " 'its',\n",
      " 'itself',\n",
      " 'just',\n",
      " 'like',\n",
      " 'll',\n",
      " 'm',\n",
      " 'ma',\n",
      " 'me',\n",
      " 'mightn',\n",
      " \"mightn't\",\n",
      " 'more',\n",
      " 'most',\n",
      " 'mustn',\n",
      " \"mustn't\",\n",
      " 'my',\n",
      " 'myself',\n",
      " 'needn',\n",
      " \"needn't\",\n",
      " 'no',\n",
      " 'nor',\n",
      " 'not',\n",
      " 'now',\n",
      " 'o',\n",
      " 'of',\n",
      " 'off',\n",
      " 'on',\n",
      " 'once',\n",
      " 'one',\n",
      " 'only',\n",
      " 'or',\n",
      " 'other',\n",
      " 'our',\n",
      " 'ours',\n",
      " 'ourselves',\n",
      " 'out',\n",
      " 'over',\n",
      " 'own',\n",
      " 're',\n",
      " 's',\n",
      " 'same',\n",
      " 'shan',\n",
      " \"shan't\",\n",
      " 'she',\n",
      " \"she's\",\n",
      " 'should',\n",
      " \"should've\",\n",
      " 'shouldn',\n",
      " \"shouldn't\",\n",
      " 'so',\n",
      " 'some',\n",
      " 'such',\n",
      " 't',\n",
      " 'than',\n",
      " 'that',\n",
      " \"that'll\",\n",
      " 'the',\n",
      " 'their',\n",
      " 'theirs',\n",
      " 'them',\n",
      " 'themselves',\n",
      " 'then',\n",
      " 'there',\n",
      " 'these',\n",
      " 'they',\n",
      " 'this',\n",
      " 'those',\n",
      " 'through',\n",
      " 'to',\n",
      " 'too',\n",
      " 'under',\n",
      " 'until',\n",
      " 'up',\n",
      " 'us',\n",
      " 've',\n",
      " 'very',\n",
      " 'was',\n",
      " 'wasn',\n",
      " \"wasn't\",\n",
      " 'we',\n",
      " 'were',\n",
      " 'weren',\n",
      " \"weren't\",\n",
      " 'what',\n",
      " 'when',\n",
      " 'where',\n",
      " 'which',\n",
      " 'while',\n",
      " 'who',\n",
      " 'whom',\n",
      " 'why',\n",
      " 'will',\n",
      " 'with',\n",
      " 'won',\n",
      " \"won't\",\n",
      " 'would',\n",
      " 'wouldn',\n",
      " \"wouldn't\",\n",
      " 'y',\n",
      " 'you',\n",
      " \"you'd\",\n",
      " \"you'll\",\n",
      " \"you're\",\n",
      " \"you've\",\n",
      " 'your',\n",
      " 'yours',\n",
      " 'yourself',\n",
      " 'yourselves'}\n"
     ]
    }
   ],
   "source": [
    "pprint(stoplist)"
   ]
  },
  {
   "cell_type": "code",
   "execution_count": 33,
   "metadata": {},
   "outputs": [
    {
     "name": "stderr",
     "output_type": "stream",
     "text": [
      "515738it [00:49, 10334.25it/s]\n"
     ]
    }
   ],
   "source": [
    "#selecting positive reviews for reviewer score is greater than 6.\n",
    "\n",
    "reviews = list()\n",
    "for i, row in tqdm(dataset.iterrows()):\n",
    "    pos_review = row['Positive_Review']\n",
    "    reviewer_score = row['Reviewer_Score']\n",
    "    if(reviewer_score >= 6 and pos_review != 'Nothing'):\n",
    "        reviews.append(pos_review)"
   ]
  },
  {
   "cell_type": "code",
   "execution_count": 34,
   "metadata": {},
   "outputs": [
    {
     "data": {
      "text/plain": [
       "463231"
      ]
     },
     "execution_count": 34,
     "metadata": {},
     "output_type": "execute_result"
    }
   ],
   "source": [
    "len(reviews)"
   ]
  },
  {
   "cell_type": "code",
   "execution_count": 35,
   "metadata": {},
   "outputs": [
    {
     "data": {
      "text/plain": [
       "'No Positive'"
      ]
     },
     "execution_count": 35,
     "metadata": {},
     "output_type": "execute_result"
    }
   ],
   "source": [
    "reviews[5]"
   ]
  },
  {
   "cell_type": "code",
   "execution_count": 36,
   "metadata": {},
   "outputs": [
    {
     "name": "stdout",
     "output_type": "stream",
     "text": [
      "Clean Data...\n"
     ]
    },
    {
     "name": "stderr",
     "output_type": "stream",
     "text": [
      "100%|██████████| 463231/463231 [00:08<00:00, 53760.04it/s]\n"
     ]
    },
    {
     "name": "stdout",
     "output_type": "stream",
     "text": [
      "Get Unigrams...\n"
     ]
    },
    {
     "name": "stderr",
     "output_type": "stream",
     "text": [
      "100%|██████████| 463231/463231 [00:02<00:00, 214306.47it/s]\n"
     ]
    },
    {
     "name": "stdout",
     "output_type": "stream",
     "text": [
      "Get Bigrams...\n"
     ]
    },
    {
     "name": "stderr",
     "output_type": "stream",
     "text": [
      "100%|██████████| 463231/463231 [00:06<00:00, 75490.69it/s]\n"
     ]
    },
    {
     "name": "stdout",
     "output_type": "stream",
     "text": [
      "Get Trigrams...\n"
     ]
    },
    {
     "name": "stderr",
     "output_type": "stream",
     "text": [
      "100%|██████████| 463231/463231 [00:06<00:00, 77049.56it/s]\n"
     ]
    }
   ],
   "source": [
    "#Keywords of Positive reviews after filtering out non Positive reviews if reviewer score is >= 6.\n",
    "top_words_uni, uni_dict, top_words_bi, bi_dict, top_words_tri, tri_dict = keyword_function(reviews)"
   ]
  },
  {
   "cell_type": "code",
   "execution_count": 37,
   "metadata": {
    "scrolled": true
   },
   "outputs": [
    {
     "name": "stdout",
     "output_type": "stream",
     "text": [
      "[('staff', 1.0),\n",
      " ('location', 0.9368944178696279),\n",
      " ('room', 0.7162057901765998),\n",
      " ('hotel', 0.6379410340589233),\n",
      " ('good', 0.5527378564321402),\n",
      " ('great', 0.5483587759858252),\n",
      " ('friendly', 0.4400417156630609),\n",
      " ('breakfast', 0.4274259201123769),\n",
      " ('helpful', 0.3950324307355046),\n",
      " ('nice', 0.34967196803218065),\n",
      " ('clean', 0.3426696960183889),\n",
      " ('excellent', 0.3255471190120199),\n",
      " ('comfortable', 0.31024428138917415),\n",
      " ('bed', 0.2519328079855698),\n",
      " ('rooms', 0.20708314931972607),\n",
      " ('lovely', 0.18328819457377127),\n",
      " ('stay', 0.16695842800057464),\n",
      " ('close', 0.15362431427218406),\n",
      " ('station', 0.14692533215564624),\n",
      " ('really', 0.14523861465688334),\n",
      " ('everything', 0.14257817696167374),\n",
      " ('perfect', 0.13561847195100538),\n",
      " ('service', 0.13270263223705564),\n",
      " ('positive', 0.1303135591867574),\n",
      " ('well', 0.12257168549369743),\n",
      " ('amazing', 0.11396782998738952),\n",
      " ('quiet', 0.11387205423036198),\n",
      " ('comfy', 0.10964195829497869),\n",
      " ('walk', 0.10552360074279421),\n",
      " ('bar', 0.0997930179473127),\n",
      " ('also', 0.09126897557186109),\n",
      " ('bathroom', 0.08816158434385625),\n",
      " ('modern', 0.08747519141849217),\n",
      " ('view', 0.08729960253060834),\n",
      " ('london', 0.08583104092285262),\n",
      " ('fantastic', 0.08402194329011009),\n",
      " ('food', 0.08354838538036277),\n",
      " ('metro', 0.0817286459968394),\n",
      " ('free', 0.08114867057928371),\n",
      " ('facilities', 0.0809251938128861),\n",
      " ('spacious', 0.08025476351369328),\n",
      " ('area', 0.07935021469732201),\n",
      " ('reception', 0.0784350241301699),\n",
      " ('city', 0.07830732312079984),\n",
      " ('easy', 0.07593953357206328),\n",
      " ('beds', 0.07523185714513751),\n",
      " ('beautiful', 0.07361431102645007),\n",
      " ('central', 0.06875635179499731),\n",
      " ('restaurant', 0.06771346021847514),\n",
      " ('loved', 0.0673409989411458),\n",
      " ('restaurants', 0.06603738447049308),\n",
      " ('near', 0.0648827545107721),\n",
      " ('shower', 0.06435598784712061),\n",
      " ('big', 0.061674266650349314),\n",
      " ('extremely', 0.05890741144733132),\n",
      " ('walking', 0.05887016531959838),\n",
      " ('value', 0.05844981616375526),\n",
      " ('small', 0.05813588451572053),\n",
      " ('best', 0.057891124247761244),\n",
      " ('tube', 0.05761975960284986),\n",
      " ('place', 0.05520408217559953),\n",
      " ('check', 0.054890150527564796),\n",
      " ('definitely', 0.05277776299756836),\n",
      " ('size', 0.05161781216245697),\n",
      " ('wonderful', 0.05115489600349049),\n",
      " ('time', 0.050457861327345574),\n",
      " ('large', 0.050048153922283296),\n",
      " ('next', 0.04966505089417311),\n",
      " ('coffee', 0.04925002261372041),\n",
      " ('super', 0.04897333709341861),\n",
      " ('distance', 0.04799429602158147),\n",
      " ('could', 0.04770696875049883),\n",
      " ('minutes', 0.04724405259153236),\n",
      " ('convenient', 0.04668536067553834),\n",
      " ('day', 0.04662151017085331),\n",
      " ('back', 0.046605547544682054),\n",
      " ('night', 0.04572760310526288),\n",
      " ('right', 0.04533385832637186),\n",
      " ('recommend', 0.044844337790453284),\n",
      " ('stayed', 0.04426436237289759),\n",
      " ('train', 0.04424307887133591),\n",
      " ('made', 0.04395575160025327),\n",
      " ('price', 0.04350879806745806),\n",
      " ('street', 0.04323743342254668),\n",
      " ('money', 0.04276919638818979),\n",
      " ('pleasant', 0.04267874150655266),\n",
      " ('around', 0.04263085362803889),\n",
      " ('pool', 0.04166245430698259),\n",
      " ('away', 0.040614241855069996),\n",
      " ('centre', 0.04025774320391191),\n",
      " ('located', 0.04010875869298017),\n",
      " ('welcoming', 0.03994381155587717),\n",
      " ('always', 0.038714689340690334),\n",
      " ('much', 0.03864019708522446),\n",
      " ('little', 0.03820388530321008),\n",
      " ('access', 0.037772894396586126),\n",
      " ('polite', 0.03773032739346277),\n",
      " ('front', 0.03752281325323642),\n",
      " ('every', 0.036804495075529825),\n",
      " ('quality', 0.036586339184522636)]\n"
     ]
    }
   ],
   "source": [
    "pprint(top_words_uni)"
   ]
  },
  {
   "cell_type": "code",
   "execution_count": 38,
   "metadata": {
    "scrolled": true
   },
   "outputs": [
    {
     "name": "stdout",
     "output_type": "stream",
     "text": [
      "[('great location', 1.0),\n",
      " ('friendly staff', 0.8218900343642612),\n",
      " ('good location', 0.5952920962199313),\n",
      " ('helpful staff', 0.5680068728522337),\n",
      " ('excellent location', 0.3909965635738832),\n",
      " ('comfortable bed', 0.28941580756013746),\n",
      " ('good breakfast', 0.2869415807560137),\n",
      " ('walking distance', 0.2779381443298969),\n",
      " ('comfy bed', 0.21597938144329898),\n",
      " ('perfect location', 0.1997250859106529),\n",
      " ('comfortable room', 0.16969072164948454),\n",
      " ('metro station', 0.1619931271477663),\n",
      " ('train station', 0.15958762886597938),\n",
      " ('great staff', 0.1583505154639175),\n",
      " ('great breakfast', 0.15570446735395188),\n",
      " ('clean room', 0.15405498281786942),\n",
      " ('good value', 0.15192439862542956),\n",
      " ('tube station', 0.14879725085910653),\n",
      " ('excellent breakfast', 0.13762886597938145),\n",
      " ('reception staff', 0.13584192439862544),\n",
      " ('friendly helpful', 0.132233676975945),\n",
      " ('location staff', 0.12762886597938145),\n",
      " ('front desk', 0.12690721649484535),\n",
      " ('staff great', 0.12618556701030928),\n",
      " ('minute walk', 0.12192439862542956),\n",
      " ('nice staff', 0.12134020618556701),\n",
      " ('location close', 0.11965635738831615),\n",
      " ('hotel staff', 0.11920962199312715),\n",
      " ('really nice', 0.1165635738831615),\n",
      " ('extremely helpful', 0.11573883161512027),\n",
      " ('excellent staff', 0.11285223367697594),\n",
      " ('location friendly', 0.11192439862542955),\n",
      " ('really good', 0.11137457044673539),\n",
      " ('staff good', 0.11116838487972508),\n",
      " ('nice hotel', 0.11061855670103093),\n",
      " ('minutes walk', 0.10786941580756014),\n",
      " ('central location', 0.10718213058419244),\n",
      " ('room service', 0.10687285223367697),\n",
      " ('definitely stay', 0.1056701030927835),\n",
      " ('easy access', 0.1047766323024055),\n",
      " ('nice room', 0.10374570446735396),\n",
      " ('comfortable beds', 0.10357388316151203),\n",
      " ('great hotel', 0.10216494845360825),\n",
      " ('good size', 0.10041237113402061),\n",
      " ('location near', 0.0977319587628866),\n",
      " ('spacious room', 0.09731958762886599),\n",
      " ('clean rooms', 0.09498281786941581),\n",
      " ('min walk', 0.09395189003436426),\n",
      " ('location great', 0.09374570446735395),\n",
      " ('staff friendly', 0.09353951890034365),\n",
      " ('city centre', 0.09106529209621993),\n",
      " ('fantastic location', 0.08824742268041237),\n",
      " ('city center', 0.08570446735395189),\n",
      " ('quiet room', 0.08549828178694158),\n",
      " ('lovely hotel', 0.0847766323024055),\n",
      " ('nice breakfast', 0.08419243986254296),\n",
      " ('hyde park', 0.08405498281786941),\n",
      " ('breakfast buffet', 0.08350515463917525),\n",
      " ('location good', 0.08171821305841924),\n",
      " ('short walk', 0.08140893470790378),\n",
      " ('staff excellent', 0.07972508591065292),\n",
      " ('within walking', 0.07927835051546392),\n",
      " ('convenient location', 0.07769759450171822),\n",
      " ('highly recommend', 0.0772852233676976),\n",
      " ('comfy beds', 0.07587628865979382),\n",
      " ('public transport', 0.0754295532646048),\n",
      " ('central london', 0.0745360824742268),\n",
      " ('great value', 0.07343642611683848),\n",
      " ('lovely room', 0.07243986254295533),\n",
      " ('lovely staff', 0.07230240549828179),\n",
      " ('th floor', 0.07216494845360824),\n",
      " ('well equipped', 0.0718213058419244),\n",
      " ('clean hotel', 0.07103092783505155),\n",
      " ('really friendly', 0.07010309278350516),\n",
      " ('clean comfortable', 0.06883161512027491),\n",
      " ('come back', 0.06821305841924398),\n",
      " ('location excellent', 0.0679725085910653),\n",
      " ('beautiful hotel', 0.06766323024054983),\n",
      " ('comfortable rooms', 0.06714776632302405),\n",
      " ('good staff', 0.06687285223367698),\n",
      " ('excellent service', 0.06556701030927835),\n",
      " ('customer service', 0.0654639175257732),\n",
      " ('nice location', 0.06512027491408935),\n",
      " ('right next', 0.06487972508591065),\n",
      " ('really helpful', 0.06460481099656358),\n",
      " ('great room', 0.06371134020618557),\n",
      " ('location nice', 0.06329896907216495),\n",
      " ('room good', 0.06323024054982818),\n",
      " ('eiffel tower', 0.06209621993127148),\n",
      " ('staff clean', 0.061890034364261166),\n",
      " ('nice touch', 0.06134020618556701),\n",
      " ('extremely friendly', 0.06127147766323024),\n",
      " ('well appointed', 0.06120274914089347),\n",
      " ('central station', 0.06106529209621993),\n",
      " ('location location', 0.059553264604810995),\n",
      " ('much trouble', 0.05917525773195876),\n",
      " ('great view', 0.05879725085910653),\n",
      " ('location clean', 0.058213058419243985),\n",
      " ('hotel great', 0.05752577319587629),\n",
      " ('well located', 0.05621993127147766)]\n"
     ]
    }
   ],
   "source": [
    "pprint(top_words_bi)"
   ]
  },
  {
   "cell_type": "code",
   "execution_count": 39,
   "metadata": {
    "scrolled": true
   },
   "outputs": [
    {
     "name": "stdout",
     "output_type": "stream",
     "text": [
      "[('friendly and helpful', 1.0),\n",
      " ('value for money', 0.39632693995236307),\n",
      " ('helpful and friendly', 0.34655885671305003),\n",
      " ('clean and comfortable', 0.27153065062053405),\n",
      " ('staff were friendly', 0.25905728970791025),\n",
      " ('staff very friendly', 0.24075466967531653),\n",
      " ('staff very helpful', 0.2406293092641344),\n",
      " ('location was great', 0.21317537921524382),\n",
      " ('room was clean', 0.2059044753666792),\n",
      " ('location is great', 0.19117462705277674),\n",
      " ('location was perfect', 0.17763570264510467),\n",
      " ('location was excellent', 0.16923655509590071),\n",
      " ('location is perfect', 0.16058668672433246),\n",
      " ('friendly helpful staff', 0.16014792528519495),\n",
      " ('breakfast was good', 0.15281434123103924),\n",
      " ('staff were excellent', 0.14930424971793907),\n",
      " ('location friendly staff', 0.14347499059796917),\n",
      " ('within walking distance', 0.1421587062805566),\n",
      " ('location is excellent', 0.14103046257991725),\n",
      " ('breakfast was excellent', 0.13545192428231165),\n",
      " ('recommend this hotel', 0.128995863106431),\n",
      " ('staff were extremely', 0.12880782248965778),\n",
      " ('room was spacious', 0.11746270527767332),\n",
      " ('place to stay', 0.1064936692992353),\n",
      " ('bed was comfortable', 0.10643098909364422),\n",
      " ('staff were really', 0.10367306004763696),\n",
      " ('breakfast was great', 0.10091513100162969),\n",
      " ('staff great location', 0.09897204462830637),\n",
      " ('location was good', 0.09784380092766705),\n",
      " ('nice and helpful', 0.09778112072207597),\n",
      " ('room was lovely', 0.0974677196941206),\n",
      " ('staff were helpful', 0.09684091763820986),\n",
      " ('close to metro', 0.09358154694747399),\n",
      " ('location is good', 0.09339350633070076),\n",
      " ('clean and modern', 0.08580920145418076),\n",
      " ('staff were great', 0.0854958004262254),\n",
      " ('nice and clean', 0.08461827754795036),\n",
      " ('location and staff', 0.08436755672558606),\n",
      " ('comfortable and clean', 0.08367807446408425),\n",
      " ('polite and helpful', 0.08349003384731102),\n",
      " ('clean and tidy', 0.08267519117462706),\n",
      " ('staff were lovely', 0.07935314027830011),\n",
      " ('staff was friendly', 0.07885169863357151),\n",
      " ('room and bathroom', 0.07853829760561615),\n",
      " ('friendly staff good', 0.07722201328820359),\n",
      " ('everything was perfect', 0.07690861226024821),\n",
      " ('bed was comfy', 0.07653253102670177),\n",
      " ('around the corner', 0.07477748527015168),\n",
      " ('room was comfortable', 0.072520997868873),\n",
      " ('friendly staff great', 0.07089131252350507),\n",
      " ('clean and well', 0.06976306882286575),\n",
      " ('front desk staff', 0.06857214491663532),\n",
      " ('staff were amazing', 0.06700513977685847),\n",
      " ('room was nice', 0.06600225648740128),\n",
      " ('tea and coffee', 0.06487401278676194),\n",
      " ('great location friendly', 0.06355772846934937),\n",
      " ('enjoyed our stay', 0.06293092641343864),\n",
      " ('bed very comfortable', 0.06224144415193682),\n",
      " ('staff good location', 0.06042371818979566),\n",
      " ('pleasant and helpful', 0.060361037984204585),\n",
      " ('room was great', 0.06011031716184029),\n",
      " ('bed was really', 0.059546195311520625),\n",
      " ('close to everything', 0.05848063181647236),\n",
      " ('attention to detail', 0.05835527140529021),\n",
      " ('loved the location', 0.05735238811583302),\n",
      " ('helpful the room', 0.05735238811583302),\n",
      " ('close to tube', 0.05703898708787765),\n",
      " ('kind and helpful', 0.05503322050896327),\n",
      " ('places to eat', 0.05453177886423467),\n",
      " ('friendly and efficient', 0.05453177886423467),\n",
      " ('bed and pillows', 0.0542183778362793),\n",
      " ('staff are friendly', 0.053967657013915),\n",
      " ('rooms were clean', 0.053403535163595334),\n",
      " ('across the street', 0.05321549454682211),\n",
      " ('breakfast was delicious', 0.05214993105177385),\n",
      " ('hotel is located', 0.052024570640591704),\n",
      " ('hotel was clean', 0.05139776858468096),\n",
      " ('helpful and polite', 0.05120972796790774),\n",
      " ('helpful staff great', 0.05108436755672559),\n",
      " ('modern and clean', 0.05064560611758807),\n",
      " ('room very clean', 0.050332205089632695),\n",
      " ('great location great', 0.0500814842672684),\n",
      " ('great location close', 0.0495800426225398),\n",
      " ('breakfast was lovely', 0.0495800426225398),\n",
      " ('location location location', 0.04951736241694873),\n",
      " ('breakfast was amazing', 0.04901592077222013),\n",
      " ('made us feel', 0.048765199949855835),\n",
      " ('across the road', 0.048765199949855835),\n",
      " ('helpful staff good', 0.04857715933308261),\n",
      " ('room was excellent', 0.048326438510718314),\n",
      " ('service was excellent', 0.048201078099536165),\n",
      " ('spacious and clean', 0.04788767707158079),\n",
      " ('friendly and welcoming', 0.047636956249216496),\n",
      " ('everything you need', 0.046759433370941454),\n",
      " ('everything was great', 0.046759433370941454),\n",
      " ('easy to find', 0.046759433370941454),\n",
      " ('staff were fantastic', 0.04644603234298608),\n",
      " ('good location close', 0.046195311520621785),\n",
      " ('bars and restaurants', 0.04613263131503071),\n",
      " ('friendly and professional', 0.046069951109439636)]\n"
     ]
    }
   ],
   "source": [
    "pprint(top_words_tri)"
   ]
  },
  {
   "cell_type": "code",
   "execution_count": 40,
   "metadata": {},
   "outputs": [
    {
     "name": "stderr",
     "output_type": "stream",
     "text": [
      "515738it [00:54, 9474.50it/s]\n"
     ]
    },
    {
     "data": {
      "text/plain": [
       "[(' United Kingdom ', 245246),\n",
       " (' United States of America ', 35437),\n",
       " (' Australia ', 21686),\n",
       " (' Ireland ', 14827),\n",
       " (' United Arab Emirates ', 10235),\n",
       " (' Saudi Arabia ', 8951),\n",
       " (' Netherlands ', 8772),\n",
       " (' Switzerland ', 8678),\n",
       " (' Germany ', 7941),\n",
       " (' Canada ', 7894),\n",
       " (' France ', 7296),\n",
       " (' Israel ', 6610),\n",
       " (' Italy ', 6114),\n",
       " (' Belgium ', 6031),\n",
       " (' Turkey ', 5444),\n",
       " (' Kuwait ', 4920),\n",
       " (' Spain ', 4737),\n",
       " (' Romania ', 4552),\n",
       " (' Russia ', 3900),\n",
       " (' South Africa ', 3821),\n",
       " (' India ', 3437),\n",
       " (' Greece ', 3406),\n",
       " (' China ', 3400),\n",
       " (' Sweden ', 3368),\n",
       " (' New Zealand ', 3237),\n",
       " (' Singapore ', 3091),\n",
       " (' Hong Kong ', 3013),\n",
       " (' Poland ', 2891),\n",
       " (' Qatar ', 2757),\n",
       " (' Austria ', 2412),\n",
       " (' Egypt ', 2388),\n",
       " (' Norway ', 2383),\n",
       " (' Czech Republic ', 2311),\n",
       " (' Lebanon ', 2261),\n",
       " (' Hungary ', 2185),\n",
       " (' Malaysia ', 1883),\n",
       " (' Thailand ', 1880),\n",
       " (' Brazil ', 1865),\n",
       " (' Portugal ', 1839),\n",
       " (' Finland ', 1829),\n",
       " (' Denmark ', 1724),\n",
       " (' Malta ', 1685),\n",
       " (' Bahrain ', 1592),\n",
       " (' Indonesia ', 1548),\n",
       " (' Cyprus ', 1381),\n",
       " (' Luxembourg ', 1359),\n",
       " (' Croatia ', 1340),\n",
       " (' Oman ', 1334),\n",
       " (' Bulgaria ', 1314),\n",
       " (' Japan ', 1279),\n",
       " (' Serbia ', 1124),\n",
       " (' Ukraine ', 1102),\n",
       " (' Iran ', 1086),\n",
       " (' South Korea ', 1078),\n",
       " (' Philippines ', 1073),\n",
       " (' Nigeria ', 977),\n",
       " (' Iceland ', 933),\n",
       " (' Taiwan ', 923),\n",
       " (' Pakistan ', 916),\n",
       " (' Slovakia ', 903),\n",
       " (' Jersey ', 863),\n",
       " (' Slovenia ', 796),\n",
       " (' Jordan ', 757),\n",
       " (' Estonia ', 757),\n",
       " (' Lithuania ', 727),\n",
       " (' Latvia ', 719),\n",
       " (' Mexico ', 592),\n",
       " (' Guernsey ', 543),\n",
       " (' ', 523),\n",
       " (' Argentina ', 517),\n",
       " (' Isle of Man ', 405),\n",
       " (' Gibraltar ', 380),\n",
       " (' Chile ', 334),\n",
       " (' Georgia ', 294),\n",
       " (' Iraq ', 290),\n",
       " (' Albania ', 286),\n",
       " (' Sri Lanka ', 284),\n",
       " (' Macedonia ', 282),\n",
       " (' Kazakhstan ', 281),\n",
       " (' Azerbaijan ', 277),\n",
       " (' Colombia ', 277),\n",
       " (' Kenya ', 269),\n",
       " (' Monaco ', 250),\n",
       " (' Bosnia and Herzegovina ', 246),\n",
       " (' Morocco ', 229),\n",
       " (' Mauritius ', 216),\n",
       " (' Belarus ', 192),\n",
       " (' Montenegro ', 192),\n",
       " (' Vietnam ', 187),\n",
       " (' Puerto Rico ', 180),\n",
       " (' Trinidad and Tobago ', 154),\n",
       " (' Abkhazia Georgia ', 153),\n",
       " (' Bangladesh ', 151),\n",
       " (' Ghana ', 145),\n",
       " (' Armenia ', 134),\n",
       " (' Panama ', 122),\n",
       " (' Costa Rica ', 120),\n",
       " (' Peru ', 118),\n",
       " (' Macau ', 109),\n",
       " (' Moldova ', 108),\n",
       " (' Bermuda ', 103),\n",
       " (' Brunei ', 100),\n",
       " (' Algeria ', 100),\n",
       " (' Uruguay ', 91),\n",
       " (' Venezuela ', 78),\n",
       " (' Tunisia ', 76),\n",
       " (' United States Minor Outlying Islands ', 74),\n",
       " (' Kosovo ', 72),\n",
       " (' Libya ', 72),\n",
       " (' Namibia ', 67),\n",
       " (' Andorra ', 64),\n",
       " (' Angola ', 62),\n",
       " (' Barbados ', 61),\n",
       " (' Ecuador ', 61),\n",
       " (' Tanzania ', 58),\n",
       " (' Palestinian Territory ', 54),\n",
       " (' Guatemala ', 53),\n",
       " (' Dominican Republic ', 52),\n",
       " (' Sudan ', 51),\n",
       " (' Zimbabwe ', 51),\n",
       " (' Maldives ', 49),\n",
       " (' Uganda ', 47),\n",
       " (' Botswana ', 42),\n",
       " (' Cayman Islands ', 42),\n",
       " (' Jamaica ', 41),\n",
       " (' Cura ao ', 41),\n",
       " (' Mongolia ', 39),\n",
       " (' Zambia ', 37),\n",
       " (' Mozambique ', 35),\n",
       " (' Cambodia ', 34),\n",
       " (' Syria ', 33),\n",
       " (' Bahamas ', 32),\n",
       " (' Ethiopia ', 32),\n",
       " (' Aruba ', 31),\n",
       " (' Paraguay ', 28),\n",
       " (' Senegal ', 24),\n",
       " (' El Salvador ', 24),\n",
       " (' Honduras ', 22),\n",
       " (' Seychelles ', 21),\n",
       " (' Kyrgyzstan ', 21),\n",
       " (' Liechtenstein ', 20),\n",
       " (' Uzbekistan ', 20),\n",
       " (' Ivory Coast ', 19),\n",
       " (' Myanmar ', 18),\n",
       " (' Bolivia ', 18),\n",
       " (' U S Virgin Islands ', 17),\n",
       " (' Yemen ', 16),\n",
       " (' British Virgin Islands ', 16),\n",
       " (' Faroe Islands ', 16),\n",
       " (' Tajikistan ', 16),\n",
       " (' Nicaragua ', 15),\n",
       " (' Nepal ', 15),\n",
       " (' Turks Caicos Islands ', 14),\n",
       " (' Antigua Barbuda ', 14),\n",
       " (' Papua New Guinea ', 14),\n",
       " (' Guam ', 14),\n",
       " (' Rwanda ', 13),\n",
       " (' Fiji ', 12),\n",
       " (' St Maarten ', 11),\n",
       " (' Suriname ', 11),\n",
       " (' Dominica ', 11),\n",
       " (' Malawi ', 10),\n",
       " (' New Caledonia ', 10),\n",
       " (' Saint Kitts and Nevis ', 9),\n",
       " (' Democratic Republic of the Congo ', 9),\n",
       " (' Laos ', 9),\n",
       " (' Cameroon ', 9),\n",
       " (' Madagascar ', 8),\n",
       " (' Vanuatu ', 8),\n",
       " (' Belize ', 8),\n",
       " (' Mauritania ', 8),\n",
       " (' Saint Lucia ', 8),\n",
       " (' Swaziland ', 8),\n",
       " (' Afghanistan ', 8),\n",
       " (' Togo ', 7),\n",
       " (' Gabon ', 7),\n",
       " (' Crimea ', 6),\n",
       " (' Sierra Leone ', 6),\n",
       " (' Benin ', 6),\n",
       " (' Bhutan ', 6),\n",
       " (' Reunion ', 6),\n",
       " (' Haiti ', 6),\n",
       " (' Falkland Islands Malvinas ', 6),\n",
       " (' Guyana ', 5),\n",
       " (' Martinique ', 5),\n",
       " (' Gambia ', 5),\n",
       " (' Guadeloupe ', 5),\n",
       " (' Mali ', 5),\n",
       " (' Turkmenistan ', 5),\n",
       " (' East Timor ', 4),\n",
       " (' Saint Martin ', 4),\n",
       " (' French Guiana ', 4),\n",
       " (' Samoa ', 4),\n",
       " (' Burundi ', 3),\n",
       " (' Antarctica ', 3),\n",
       " (' Central Africa Republic ', 3),\n",
       " (' Liberia ', 3),\n",
       " (' Lesotho ', 3),\n",
       " (' French Polynesia ', 3),\n",
       " (' Grenada ', 3),\n",
       " (' Saint Barts ', 3),\n",
       " (' Congo ', 3),\n",
       " (' Somalia ', 3),\n",
       " (' San Marino ', 3),\n",
       " (' Bonaire St Eustatius and Saba ', 3),\n",
       " (' Equatorial Guinea ', 2),\n",
       " (' Montserrat ', 2),\n",
       " (' St Pierre and Miquelon ', 2),\n",
       " (' Niger ', 2),\n",
       " (' Wallis and Futuna ', 2),\n",
       " (' Djibouti ', 2),\n",
       " (' Kiribati ', 2),\n",
       " (' Cook Islands ', 2),\n",
       " (' Eritrea ', 2),\n",
       " (' Saint Vincent Grenadines ', 2),\n",
       " (' South Sudan ', 2),\n",
       " (' Cocos K I ', 2),\n",
       " (' American Samoa ', 2),\n",
       " (' Comoros ', 1),\n",
       " (' Svalbard Jan Mayen ', 1),\n",
       " (' Vatican City ', 1),\n",
       " (' Anguilla ', 1),\n",
       " (' Cape Verde ', 1),\n",
       " (' Northern Mariana Islands ', 1),\n",
       " (' Tuvalu ', 1),\n",
       " (' Guinea ', 1),\n",
       " (' Palau ', 1)]"
      ]
     },
     "execution_count": 40,
     "metadata": {},
     "output_type": "execute_result"
    }
   ],
   "source": [
    "d = {}\n",
    "for row in tqdm(dataset.iterrows()):\n",
    "    row = row[1].to_dict()\n",
    "    n = row['Reviewer_Nationality']\n",
    "    if(n in d):\n",
    "        d[n]+=1\n",
    "    else:\n",
    "        d[n] = 1\n",
    "sort_dict(d)"
   ]
  },
  {
   "cell_type": "code",
   "execution_count": 41,
   "metadata": {
    "scrolled": true
   },
   "outputs": [
    {
     "name": "stdout",
     "output_type": "stream",
     "text": [
      "{' Russia ': 3900, ' Ireland ': 14827, ' Australia ': 21686, ' United Kingdom ': 245246, ' New Zealand ': 3237, ' Poland ': 2891, ' Belgium ': 6031, ' Norway ': 2383, ' France ': 7296, ' Italy ': 6114, ' Canada ': 7894, ' Netherlands ': 8772, ' Germany ': 7941, ' United States of America ': 35437, ' Hungary ': 2185, ' Israel ': 6610, ' Switzerland ': 8678, ' India ': 3437, ' United Arab Emirates ': 10235, ' Malaysia ': 1883, ' Denmark ': 1724, ' South Africa ': 3821, ' Rwanda ': 13, ' Finland ': 1829, ' Portugal ': 1839, ' Luxembourg ': 1359, ' Spain ': 4737, ' Malta ': 1685, ' China ': 3400, ' Turkey ': 5444, ' Ukraine ': 1102, ' Gibraltar ': 380, ' Argentina ': 517, ' Abkhazia Georgia ': 153, ' Isle of Man ': 405, ' Sweden ': 3368, ' Croatia ': 1340, ' Saudi Arabia ': 8951, ' Lithuania ': 727, ' Slovenia ': 796, ' Panama ': 122, ' Austria ': 2412, ' Brazil ': 1865, ' Taiwan ': 923, ' Iceland ': 933, ' Iran ': 1086, ' Liechtenstein ': 20, ' Chile ': 334, ' Hong Kong ': 3013, ' United States Minor Outlying Islands ': 74, ' Morocco ': 229, ' Oman ': 1334, ' Lebanon ': 2261, ' Qatar ': 2757, ' Nigeria ': 977, ' Romania ': 4552, ' Czech Republic ': 2311, ' Greece ': 3406, ' Thailand ': 1880, ' Singapore ': 3091, ' Guernsey ': 543, ' Latvia ': 719, ' Namibia ': 67, ' Japan ': 1279, ' Egypt ': 2388, ' Slovakia ': 903, ' South Korea ': 1078, ' Kuwait ': 4920, ' Bahrain ': 1592, ' Jersey ': 863, ' Jordan ': 757, ' Bulgaria ': 1314, ' Cyprus ': 1381, ' Albania ': 286, ' Estonia ': 757, ' Serbia ': 1124, ' Belarus ': 192, ' Puerto Rico ': 180, ' Sudan ': 51, ' Sri Lanka ': 284, ' Indonesia ': 1548, ' Honduras ': 22, ' Philippines ': 1073, ' Montenegro ': 192, ' Uruguay ': 91, ' Brunei ': 100, ' Pakistan ': 916, ' Kosovo ': 72, ' Azerbaijan ': 277, ' ': 523, ' Botswana ': 42, ' Tanzania ': 58, ' Bangladesh ': 151, ' Trinidad and Tobago ': 154, ' Palestinian Territory ': 54, ' Peru ': 118, ' Mexico ': 592, ' Kenya ': 269, ' Zimbabwe ': 51, ' Macedonia ': 282, ' Georgia ': 294, ' Bermuda ': 103, ' Costa Rica ': 120, ' Bahamas ': 32, ' Maldives ': 49, ' Barbados ': 61, ' Libya ': 72, ' Fiji ': 12, ' Angola ': 62, ' Kazakhstan ': 281, ' Bosnia and Herzegovina ': 246, ' Colombia ': 277, ' Armenia ': 134, ' Vietnam ': 187, ' Iraq ': 290, ' Monaco ': 250, ' Uganda ': 47, ' Togo ': 7, ' Guatemala ': 53, ' Ghana ': 145, ' Macau ': 109, ' Zambia ': 37, ' Jamaica ': 41, ' Mauritius ': 216, ' Venezuela ': 78, ' Crimea ': 6, ' St Maarten ': 11, ' Algeria ': 100, ' Equatorial Guinea ': 2, ' Nicaragua ': 15, ' Comoros ': 1, ' Cayman Islands ': 42, ' Ethiopia ': 32, ' Dominican Republic ': 52, ' Ecuador ': 61, ' Uzbekistan ': 20, ' Turks Caicos Islands ': 14, ' Nepal ': 15, ' Mozambique ': 35, ' Sierra Leone ': 6, ' Ivory Coast ': 19, ' Cura ao ': 41, ' Antigua Barbuda ': 14, ' Burundi ': 3, ' East Timor ': 4, ' Tunisia ': 76, ' Andorra ': 64, ' U S Virgin Islands ': 17, ' Antarctica ': 3, ' Papua New Guinea ': 14, ' Montserrat ': 2, ' Malawi ': 10, ' Yemen ': 16, ' Suriname ': 11, ' Paraguay ': 28, ' Aruba ': 31, ' Mongolia ': 39, ' Moldova ': 108, ' St Pierre and Miquelon ': 2, ' Cambodia ': 34, ' Seychelles ': 21, ' Guyana ': 5, ' Senegal ': 24, ' El Salvador ': 24, ' Guam ': 14, ' Myanmar ': 18, ' Madagascar ': 8, ' Benin ': 6, ' Saint Kitts and Nevis ': 9, ' Martinique ': 5, ' Vanuatu ': 8, ' British Virgin Islands ': 16, ' Belize ': 8, ' Democratic Republic of the Congo ': 9, ' Gabon ': 7, ' New Caledonia ': 10, ' Bhutan ': 6, ' Faroe Islands ': 16, ' Kyrgyzstan ': 21, ' Gambia ': 5, ' Syria ': 33, ' Laos ': 9, ' Mauritania ': 8, ' Central Africa Republic ': 3, ' Reunion ': 6, ' Saint Martin ': 4, ' Cameroon ': 9, ' Guadeloupe ': 5, ' Liberia ': 3, ' Haiti ': 6, ' Mali ': 5, ' Saint Lucia ': 8, ' French Guiana ': 4, ' Swaziland ': 8, ' Falkland Islands Malvinas ': 6, ' Tajikistan ': 16, ' Afghanistan ': 8, ' Bolivia ': 18, ' Dominica ': 11, ' Niger ': 2, ' Samoa ': 4, ' Lesotho ': 3, ' French Polynesia ': 3, ' Grenada ': 3, ' Wallis and Futuna ': 2, ' Svalbard Jan Mayen ': 1, ' Djibouti ': 2, ' Saint Barts ': 3, ' Kiribati ': 2, ' Cook Islands ': 2, ' Congo ': 3, ' Somalia ': 3, ' Eritrea ': 2, ' Saint Vincent Grenadines ': 2, ' San Marino ': 3, ' Turkmenistan ': 5, ' Vatican City ': 1, ' South Sudan ': 2, ' Anguilla ': 1, ' Cocos K I ': 2, ' Bonaire St Eustatius and Saba ': 3, ' Cape Verde ': 1, ' Northern Mariana Islands ': 1, ' Tuvalu ': 1, ' Guinea ': 1, ' American Samoa ': 2, ' Palau ': 1}\n"
     ]
    }
   ],
   "source": [
    "print(d)"
   ]
  },
  {
   "cell_type": "code",
   "execution_count": 42,
   "metadata": {},
   "outputs": [
    {
     "name": "stderr",
     "output_type": "stream",
     "text": [
      "515738it [00:55, 9364.12it/s]\n"
     ]
    },
    {
     "data": {
      "text/plain": [
       "[(' United Kingdom ', 2081243.9000017003),\n",
       " (' United States of America ', 311384.8999999902),\n",
       " (' Australia ', 186320.00000000652),\n",
       " (' Ireland ', 125496.50000000616),\n",
       " (' United Arab Emirates ', 80639.80000000157),\n",
       " (' Netherlands ', 71273.80000000104),\n",
       " (' Switzerland ', 70826.30000000066),\n",
       " (' Saudi Arabia ', 70549.70000000093),\n",
       " (' Canada ', 67476.2),\n",
       " (' Germany ', 64580.000000000284),\n",
       " (' France ', 59426.00000000001),\n",
       " (' Israel ', 57470.299999999166),\n",
       " (' Italy ', 49612.40000000013),\n",
       " (' Belgium ', 49297.799999999916),\n",
       " (' Turkey ', 43570.39999999997),\n",
       " (' Kuwait ', 39396.7999999997),\n",
       " (' Spain ', 38695.0999999998),\n",
       " (' Romania ', 37315.0999999997),\n",
       " (' Russia ', 32283.399999999645),\n",
       " (' South Africa ', 31960.399999999645),\n",
       " (' China ', 28699.89999999963),\n",
       " (' New Zealand ', 28015.69999999967),\n",
       " (' Greece ', 27803.79999999971),\n",
       " (' Sweden ', 27494.49999999965),\n",
       " (' India ', 27091.89999999974),\n",
       " (' Singapore ', 25169.699999999815),\n",
       " (' Hong Kong ', 24192.899999999798),\n",
       " (' Poland ', 23802.799999999803),\n",
       " (' Qatar ', 21758.799999999803),\n",
       " (' Austria ', 20050.299999999934),\n",
       " (' Norway ', 19410.299999999876),\n",
       " (' Egypt ', 19336.599999999893),\n",
       " (' Czech Republic ', 19156.899999999896),\n",
       " (' Hungary ', 18577.999999999956),\n",
       " (' Lebanon ', 18071.19999999993),\n",
       " (' Brazil ', 15731.400000000023),\n",
       " (' Thailand ', 15422.800000000025),\n",
       " (' Malaysia ', 15370.09999999998),\n",
       " (' Finland ', 15161.8),\n",
       " (' Portugal ', 14795.300000000014),\n",
       " (' Malta ', 14282.800000000027),\n",
       " (' Denmark ', 13918.199999999997),\n",
       " (' Indonesia ', 12782.80000000002),\n",
       " (' Bahrain ', 12627.800000000016),\n",
       " (' Cyprus ', 11458.900000000027),\n",
       " (' Luxembourg ', 11146.200000000032),\n",
       " (' Croatia ', 11140.300000000017),\n",
       " (' Bulgaria ', 11062.500000000002),\n",
       " (' Japan ', 10617.300000000016),\n",
       " (' Oman ', 10476.100000000024),\n",
       " (' Serbia ', 9304.100000000037),\n",
       " (' Ukraine ', 9236.900000000025),\n",
       " (' Philippines ', 9045.100000000026),\n",
       " (' South Korea ', 9028.800000000028),\n",
       " (' Iran ', 8390.400000000034),\n",
       " (' Nigeria ', 7993.100000000018),\n",
       " (' Iceland ', 7896.100000000031),\n",
       " (' Taiwan ', 7737.300000000028),\n",
       " (' Slovakia ', 7546.400000000025),\n",
       " (' Jersey ', 7169.900000000016),\n",
       " (' Pakistan ', 7153.300000000028),\n",
       " (' Slovenia ', 6588.900000000015),\n",
       " (' Estonia ', 6342.700000000014),\n",
       " (' Lithuania ', 6065.400000000008),\n",
       " (' Latvia ', 5941.900000000005),\n",
       " (' Jordan ', 5911.50000000001),\n",
       " (' Mexico ', 5065.200000000005),\n",
       " (' Guernsey ', 4559.399999999998),\n",
       " (' Argentina ', 4353.800000000002),\n",
       " (' ', 4188.299999999999),\n",
       " (' Isle of Man ', 3403.1999999999975),\n",
       " (' Gibraltar ', 3127.3),\n",
       " (' Chile ', 2772.7999999999956),\n",
       " (' Georgia ', 2433.399999999999),\n",
       " (' Colombia ', 2368.9999999999973),\n",
       " (' Albania ', 2359.599999999997),\n",
       " (' Macedonia ', 2329.6999999999985),\n",
       " (' Iraq ', 2315.1),\n",
       " (' Sri Lanka ', 2295.199999999999),\n",
       " (' Kazakhstan ', 2215.0999999999985),\n",
       " (' Azerbaijan ', 2187.2999999999984),\n",
       " (' Kenya ', 2172.5999999999995),\n",
       " (' Bosnia and Herzegovina ', 2057.3999999999996),\n",
       " (' Monaco ', 2016.3999999999985),\n",
       " (' Morocco ', 1841.1999999999982),\n",
       " (' Mauritius ', 1712.0999999999992),\n",
       " (' Puerto Rico ', 1584.6999999999996),\n",
       " (' Belarus ', 1573.9999999999995),\n",
       " (' Montenegro ', 1529.899999999999),\n",
       " (' Vietnam ', 1511.6999999999991),\n",
       " (' Trinidad and Tobago ', 1336.3999999999992),\n",
       " (' Abkhazia Georgia ', 1278.1999999999998),\n",
       " (' Ghana ', 1186.5),\n",
       " (' Bangladesh ', 1148.7999999999997),\n",
       " (' Armenia ', 1087.0000000000002),\n",
       " (' Panama ', 1073.7999999999997),\n",
       " (' Costa Rica ', 1023.5000000000005),\n",
       " (' Peru ', 989.3000000000005),\n",
       " (' Bermuda ', 886.1),\n",
       " (' Moldova ', 880.2000000000003),\n",
       " (' Macau ', 865.4000000000001),\n",
       " (' Brunei ', 845.0),\n",
       " (' Algeria ', 777.6999999999997),\n",
       " (' Uruguay ', 775.4),\n",
       " (' Venezuela ', 674.1999999999999),\n",
       " (' United States Minor Outlying Islands ', 606.4),\n",
       " (' Tunisia ', 600.0),\n",
       " (' Kosovo ', 572.9000000000001),\n",
       " (' Namibia ', 561.2),\n",
       " (' Libya ', 547.1000000000003),\n",
       " (' Ecuador ', 525.8000000000001),\n",
       " (' Barbados ', 518.3000000000002),\n",
       " (' Andorra ', 515.7000000000002),\n",
       " (' Angola ', 501.60000000000014),\n",
       " (' Tanzania ', 452.70000000000005),\n",
       " (' Guatemala ', 450.60000000000014),\n",
       " (' Dominican Republic ', 434.4000000000001),\n",
       " (' Palestinian Territory ', 430.6),\n",
       " (' Sudan ', 406.70000000000005),\n",
       " (' Zimbabwe ', 403.20000000000016),\n",
       " (' Maldives ', 389.1),\n",
       " (' Uganda ', 382.49999999999994),\n",
       " (' Cayman Islands ', 359.2000000000001),\n",
       " (' Cura ao ', 352.9000000000001),\n",
       " (' Botswana ', 344.6),\n",
       " (' Jamaica ', 342.7),\n",
       " (' Zambia ', 303.70000000000005),\n",
       " (' Mongolia ', 282.8),\n",
       " (' Cambodia ', 275.7),\n",
       " (' Mozambique ', 275.5),\n",
       " (' Bahamas ', 274.70000000000005),\n",
       " (' Ethiopia ', 263.6000000000001),\n",
       " (' Aruba ', 261.1),\n",
       " (' Syria ', 248.20000000000005),\n",
       " (' Paraguay ', 233.10000000000002),\n",
       " (' El Salvador ', 208.6),\n",
       " (' Honduras ', 193.20000000000002),\n",
       " (' Senegal ', 189.00000000000003),\n",
       " (' Kyrgyzstan ', 188.89999999999998),\n",
       " (' Liechtenstein ', 177.79999999999998),\n",
       " (' Seychelles ', 159.59999999999997),\n",
       " (' Ivory Coast ', 157.1),\n",
       " (' Bolivia ', 156.90000000000003),\n",
       " (' Uzbekistan ', 156.4),\n",
       " (' Tajikistan ', 149.7),\n",
       " (' Myanmar ', 146.3),\n",
       " (' U S Virgin Islands ', 139.29999999999998),\n",
       " (' British Virgin Islands ', 134.2),\n",
       " (' Nicaragua ', 131.0),\n",
       " (' Yemen ', 129.8),\n",
       " (' Faroe Islands ', 127.7),\n",
       " (' Guam ', 121.89999999999999),\n",
       " (' Antigua Barbuda ', 112.7),\n",
       " (' Turks Caicos Islands ', 111.4),\n",
       " (' Papua New Guinea ', 109.89999999999998),\n",
       " (' Rwanda ', 106.8),\n",
       " (' Nepal ', 102.59999999999998),\n",
       " (' Fiji ', 96.49999999999999),\n",
       " (' Dominica ', 93.1),\n",
       " (' St Maarten ', 91.79999999999998),\n",
       " (' New Caledonia ', 85.9),\n",
       " (' Malawi ', 83.5),\n",
       " (' Suriname ', 81.4),\n",
       " (' Saint Kitts and Nevis ', 77.29999999999998),\n",
       " (' Democratic Republic of the Congo ', 76.7),\n",
       " (' Cameroon ', 73.2),\n",
       " (' Vanuatu ', 72.6),\n",
       " (' Laos ', 72.6),\n",
       " (' Swaziland ', 68.0),\n",
       " (' Belize ', 66.3),\n",
       " (' Saint Lucia ', 65.6),\n",
       " (' Madagascar ', 65.5),\n",
       " (' Mauritania ', 63.5),\n",
       " (' Crimea ', 60.0),\n",
       " (' Togo ', 59.099999999999994),\n",
       " (' Benin ', 55.0),\n",
       " (' Afghanistan ', 55.0),\n",
       " (' Bhutan ', 53.4),\n",
       " (' Falkland Islands Malvinas ', 52.2),\n",
       " (' Haiti ', 50.900000000000006),\n",
       " (' Gabon ', 49.60000000000001),\n",
       " (' Reunion ', 49.6),\n",
       " (' Gambia ', 46.3),\n",
       " (' Sierra Leone ', 45.0),\n",
       " (' Guyana ', 44.6),\n",
       " (' Guadeloupe ', 38.4),\n",
       " (' Martinique ', 38.300000000000004),\n",
       " (' Saint Martin ', 37.1),\n",
       " (' Turkmenistan ', 36.8),\n",
       " (' East Timor ', 35.0),\n",
       " (' French Guiana ', 35.0),\n",
       " (' Samoa ', 34.2),\n",
       " (' Mali ', 32.2),\n",
       " (' Central Africa Republic ', 27.9),\n",
       " (' Burundi ', 27.6),\n",
       " (' Congo ', 27.5),\n",
       " (' Bonaire St Eustatius and Saba ', 27.2),\n",
       " (' Saint Barts ', 27.1),\n",
       " (' San Marino ', 26.700000000000003),\n",
       " (' Antarctica ', 26.300000000000004),\n",
       " (' Somalia ', 26.299999999999997),\n",
       " (' Liberia ', 24.6),\n",
       " (' Grenada ', 23.4),\n",
       " (' French Polynesia ', 23.299999999999997),\n",
       " (' Lesotho ', 21.7),\n",
       " (' Equatorial Guinea ', 20.0),\n",
       " (' South Sudan ', 18.4),\n",
       " (' Niger ', 18.3),\n",
       " (' St Pierre and Miquelon ', 17.9),\n",
       " (' Cocos K I ', 17.9),\n",
       " (' Eritrea ', 16.7),\n",
       " (' Saint Vincent Grenadines ', 16.7),\n",
       " (' Djibouti ', 15.8),\n",
       " (' Kiribati ', 15.0),\n",
       " (' Wallis and Futuna ', 14.6),\n",
       " (' Cook Islands ', 14.6),\n",
       " (' American Samoa ', 11.3),\n",
       " (' Montserrat ', 10.8),\n",
       " (' Comoros ', 10.0),\n",
       " (' Svalbard Jan Mayen ', 10.0),\n",
       " (' Cape Verde ', 9.6),\n",
       " (' Palau ', 8.3),\n",
       " (' Vatican City ', 7.9),\n",
       " (' Anguilla ', 7.5),\n",
       " (' Guinea ', 7.5),\n",
       " (' Tuvalu ', 7.1),\n",
       " (' Northern Mariana Islands ', 5.8)]"
      ]
     },
     "execution_count": 42,
     "metadata": {},
     "output_type": "execute_result"
    }
   ],
   "source": [
    "di = {}\n",
    "for row in tqdm(dataset.iterrows()):\n",
    "    row = row[1].to_dict()\n",
    "    n = row['Reviewer_Nationality']\n",
    "    r = row['Reviewer_Score']\n",
    "    if(n in di):\n",
    "        di[n]+=r\n",
    "    else:\n",
    "        di[n] = r\n",
    "sort_dict(di)"
   ]
  },
  {
   "cell_type": "code",
   "execution_count": 43,
   "metadata": {
    "scrolled": true
   },
   "outputs": [
    {
     "name": "stdout",
     "output_type": "stream",
     "text": [
      "{' Russia ': 32283.399999999645, ' Ireland ': 125496.50000000616, ' Australia ': 186320.00000000652, ' United Kingdom ': 2081243.9000017003, ' New Zealand ': 28015.69999999967, ' Poland ': 23802.799999999803, ' Belgium ': 49297.799999999916, ' Norway ': 19410.299999999876, ' France ': 59426.00000000001, ' Italy ': 49612.40000000013, ' Canada ': 67476.2, ' Netherlands ': 71273.80000000104, ' Germany ': 64580.000000000284, ' United States of America ': 311384.8999999902, ' Hungary ': 18577.999999999956, ' Israel ': 57470.299999999166, ' Switzerland ': 70826.30000000066, ' India ': 27091.89999999974, ' United Arab Emirates ': 80639.80000000157, ' Malaysia ': 15370.09999999998, ' Denmark ': 13918.199999999997, ' South Africa ': 31960.399999999645, ' Rwanda ': 106.8, ' Finland ': 15161.8, ' Portugal ': 14795.300000000014, ' Luxembourg ': 11146.200000000032, ' Spain ': 38695.0999999998, ' Malta ': 14282.800000000027, ' China ': 28699.89999999963, ' Turkey ': 43570.39999999997, ' Ukraine ': 9236.900000000025, ' Gibraltar ': 3127.3, ' Argentina ': 4353.800000000002, ' Abkhazia Georgia ': 1278.1999999999998, ' Isle of Man ': 3403.1999999999975, ' Sweden ': 27494.49999999965, ' Croatia ': 11140.300000000017, ' Saudi Arabia ': 70549.70000000093, ' Lithuania ': 6065.400000000008, ' Slovenia ': 6588.900000000015, ' Panama ': 1073.7999999999997, ' Austria ': 20050.299999999934, ' Brazil ': 15731.400000000023, ' Taiwan ': 7737.300000000028, ' Iceland ': 7896.100000000031, ' Iran ': 8390.400000000034, ' Liechtenstein ': 177.79999999999998, ' Chile ': 2772.7999999999956, ' Hong Kong ': 24192.899999999798, ' United States Minor Outlying Islands ': 606.4, ' Morocco ': 1841.1999999999982, ' Oman ': 10476.100000000024, ' Lebanon ': 18071.19999999993, ' Qatar ': 21758.799999999803, ' Nigeria ': 7993.100000000018, ' Romania ': 37315.0999999997, ' Czech Republic ': 19156.899999999896, ' Greece ': 27803.79999999971, ' Thailand ': 15422.800000000025, ' Singapore ': 25169.699999999815, ' Guernsey ': 4559.399999999998, ' Latvia ': 5941.900000000005, ' Namibia ': 561.2, ' Japan ': 10617.300000000016, ' Egypt ': 19336.599999999893, ' Slovakia ': 7546.400000000025, ' South Korea ': 9028.800000000028, ' Kuwait ': 39396.7999999997, ' Bahrain ': 12627.800000000016, ' Jersey ': 7169.900000000016, ' Jordan ': 5911.50000000001, ' Bulgaria ': 11062.500000000002, ' Cyprus ': 11458.900000000027, ' Albania ': 2359.599999999997, ' Estonia ': 6342.700000000014, ' Serbia ': 9304.100000000037, ' Belarus ': 1573.9999999999995, ' Puerto Rico ': 1584.6999999999996, ' Sudan ': 406.70000000000005, ' Sri Lanka ': 2295.199999999999, ' Indonesia ': 12782.80000000002, ' Honduras ': 193.20000000000002, ' Philippines ': 9045.100000000026, ' Montenegro ': 1529.899999999999, ' Uruguay ': 775.4, ' Brunei ': 845.0, ' Pakistan ': 7153.300000000028, ' Kosovo ': 572.9000000000001, ' Azerbaijan ': 2187.2999999999984, ' ': 4188.299999999999, ' Botswana ': 344.6, ' Tanzania ': 452.70000000000005, ' Bangladesh ': 1148.7999999999997, ' Trinidad and Tobago ': 1336.3999999999992, ' Palestinian Territory ': 430.6, ' Peru ': 989.3000000000005, ' Mexico ': 5065.200000000005, ' Kenya ': 2172.5999999999995, ' Zimbabwe ': 403.20000000000016, ' Macedonia ': 2329.6999999999985, ' Georgia ': 2433.399999999999, ' Bermuda ': 886.1, ' Costa Rica ': 1023.5000000000005, ' Bahamas ': 274.70000000000005, ' Maldives ': 389.1, ' Barbados ': 518.3000000000002, ' Libya ': 547.1000000000003, ' Fiji ': 96.49999999999999, ' Angola ': 501.60000000000014, ' Kazakhstan ': 2215.0999999999985, ' Bosnia and Herzegovina ': 2057.3999999999996, ' Colombia ': 2368.9999999999973, ' Armenia ': 1087.0000000000002, ' Vietnam ': 1511.6999999999991, ' Iraq ': 2315.1, ' Monaco ': 2016.3999999999985, ' Uganda ': 382.49999999999994, ' Togo ': 59.099999999999994, ' Guatemala ': 450.60000000000014, ' Ghana ': 1186.5, ' Macau ': 865.4000000000001, ' Zambia ': 303.70000000000005, ' Jamaica ': 342.7, ' Mauritius ': 1712.0999999999992, ' Venezuela ': 674.1999999999999, ' Crimea ': 60.0, ' St Maarten ': 91.79999999999998, ' Algeria ': 777.6999999999997, ' Equatorial Guinea ': 20.0, ' Nicaragua ': 131.0, ' Comoros ': 10.0, ' Cayman Islands ': 359.2000000000001, ' Ethiopia ': 263.6000000000001, ' Dominican Republic ': 434.4000000000001, ' Ecuador ': 525.8000000000001, ' Uzbekistan ': 156.4, ' Turks Caicos Islands ': 111.4, ' Nepal ': 102.59999999999998, ' Mozambique ': 275.5, ' Sierra Leone ': 45.0, ' Ivory Coast ': 157.1, ' Cura ao ': 352.9000000000001, ' Antigua Barbuda ': 112.7, ' Burundi ': 27.6, ' East Timor ': 35.0, ' Tunisia ': 600.0, ' Andorra ': 515.7000000000002, ' U S Virgin Islands ': 139.29999999999998, ' Antarctica ': 26.300000000000004, ' Papua New Guinea ': 109.89999999999998, ' Montserrat ': 10.8, ' Malawi ': 83.5, ' Yemen ': 129.8, ' Suriname ': 81.4, ' Paraguay ': 233.10000000000002, ' Aruba ': 261.1, ' Mongolia ': 282.8, ' Moldova ': 880.2000000000003, ' St Pierre and Miquelon ': 17.9, ' Cambodia ': 275.7, ' Seychelles ': 159.59999999999997, ' Guyana ': 44.6, ' Senegal ': 189.00000000000003, ' El Salvador ': 208.6, ' Guam ': 121.89999999999999, ' Myanmar ': 146.3, ' Madagascar ': 65.5, ' Benin ': 55.0, ' Saint Kitts and Nevis ': 77.29999999999998, ' Martinique ': 38.300000000000004, ' Vanuatu ': 72.6, ' British Virgin Islands ': 134.2, ' Belize ': 66.3, ' Democratic Republic of the Congo ': 76.7, ' Gabon ': 49.60000000000001, ' New Caledonia ': 85.9, ' Bhutan ': 53.4, ' Faroe Islands ': 127.7, ' Kyrgyzstan ': 188.89999999999998, ' Gambia ': 46.3, ' Syria ': 248.20000000000005, ' Laos ': 72.6, ' Mauritania ': 63.5, ' Central Africa Republic ': 27.9, ' Reunion ': 49.6, ' Saint Martin ': 37.1, ' Cameroon ': 73.2, ' Guadeloupe ': 38.4, ' Liberia ': 24.6, ' Haiti ': 50.900000000000006, ' Mali ': 32.2, ' Saint Lucia ': 65.6, ' French Guiana ': 35.0, ' Swaziland ': 68.0, ' Falkland Islands Malvinas ': 52.2, ' Tajikistan ': 149.7, ' Afghanistan ': 55.0, ' Bolivia ': 156.90000000000003, ' Dominica ': 93.1, ' Niger ': 18.3, ' Samoa ': 34.2, ' Lesotho ': 21.7, ' French Polynesia ': 23.299999999999997, ' Grenada ': 23.4, ' Wallis and Futuna ': 14.6, ' Svalbard Jan Mayen ': 10.0, ' Djibouti ': 15.8, ' Saint Barts ': 27.1, ' Kiribati ': 15.0, ' Cook Islands ': 14.6, ' Congo ': 27.5, ' Somalia ': 26.299999999999997, ' Eritrea ': 16.7, ' Saint Vincent Grenadines ': 16.7, ' San Marino ': 26.700000000000003, ' Turkmenistan ': 36.8, ' Vatican City ': 7.9, ' South Sudan ': 18.4, ' Anguilla ': 7.5, ' Cocos K I ': 17.9, ' Bonaire St Eustatius and Saba ': 27.2, ' Cape Verde ': 9.6, ' Northern Mariana Islands ': 5.8, ' Tuvalu ': 7.1, ' Guinea ': 7.5, ' American Samoa ': 11.3, ' Palau ': 8.3}\n"
     ]
    }
   ],
   "source": [
    "print(di)"
   ]
  },
  {
   "cell_type": "code",
   "execution_count": 44,
   "metadata": {},
   "outputs": [
    {
     "name": "stderr",
     "output_type": "stream",
     "text": [
      "100%|██████████| 227/227 [00:00<00:00, 333487.57it/s]\n"
     ]
    }
   ],
   "source": [
    "#list of unique countries\n",
    "l = []\n",
    "for key in tqdm(di.items()):\n",
    "    l.append(key[0])"
   ]
  },
  {
   "cell_type": "code",
   "execution_count": 45,
   "metadata": {},
   "outputs": [
    {
     "name": "stdout",
     "output_type": "stream",
     "text": [
      "[' Russia ', ' Ireland ', ' Australia ', ' United Kingdom ', ' New Zealand ', ' Poland ', ' Belgium ', ' Norway ', ' France ', ' Italy ', ' Canada ', ' Netherlands ', ' Germany ', ' United States of America ', ' Hungary ', ' Israel ', ' Switzerland ', ' India ', ' United Arab Emirates ', ' Malaysia ', ' Denmark ', ' South Africa ', ' Rwanda ', ' Finland ', ' Portugal ', ' Luxembourg ', ' Spain ', ' Malta ', ' China ', ' Turkey ', ' Ukraine ', ' Gibraltar ', ' Argentina ', ' Abkhazia Georgia ', ' Isle of Man ', ' Sweden ', ' Croatia ', ' Saudi Arabia ', ' Lithuania ', ' Slovenia ', ' Panama ', ' Austria ', ' Brazil ', ' Taiwan ', ' Iceland ', ' Iran ', ' Liechtenstein ', ' Chile ', ' Hong Kong ', ' United States Minor Outlying Islands ', ' Morocco ', ' Oman ', ' Lebanon ', ' Qatar ', ' Nigeria ', ' Romania ', ' Czech Republic ', ' Greece ', ' Thailand ', ' Singapore ', ' Guernsey ', ' Latvia ', ' Namibia ', ' Japan ', ' Egypt ', ' Slovakia ', ' South Korea ', ' Kuwait ', ' Bahrain ', ' Jersey ', ' Jordan ', ' Bulgaria ', ' Cyprus ', ' Albania ', ' Estonia ', ' Serbia ', ' Belarus ', ' Puerto Rico ', ' Sudan ', ' Sri Lanka ', ' Indonesia ', ' Honduras ', ' Philippines ', ' Montenegro ', ' Uruguay ', ' Brunei ', ' Pakistan ', ' Kosovo ', ' Azerbaijan ', ' ', ' Botswana ', ' Tanzania ', ' Bangladesh ', ' Trinidad and Tobago ', ' Palestinian Territory ', ' Peru ', ' Mexico ', ' Kenya ', ' Zimbabwe ', ' Macedonia ', ' Georgia ', ' Bermuda ', ' Costa Rica ', ' Bahamas ', ' Maldives ', ' Barbados ', ' Libya ', ' Fiji ', ' Angola ', ' Kazakhstan ', ' Bosnia and Herzegovina ', ' Colombia ', ' Armenia ', ' Vietnam ', ' Iraq ', ' Monaco ', ' Uganda ', ' Togo ', ' Guatemala ', ' Ghana ', ' Macau ', ' Zambia ', ' Jamaica ', ' Mauritius ', ' Venezuela ', ' Crimea ', ' St Maarten ', ' Algeria ', ' Equatorial Guinea ', ' Nicaragua ', ' Comoros ', ' Cayman Islands ', ' Ethiopia ', ' Dominican Republic ', ' Ecuador ', ' Uzbekistan ', ' Turks Caicos Islands ', ' Nepal ', ' Mozambique ', ' Sierra Leone ', ' Ivory Coast ', ' Cura ao ', ' Antigua Barbuda ', ' Burundi ', ' East Timor ', ' Tunisia ', ' Andorra ', ' U S Virgin Islands ', ' Antarctica ', ' Papua New Guinea ', ' Montserrat ', ' Malawi ', ' Yemen ', ' Suriname ', ' Paraguay ', ' Aruba ', ' Mongolia ', ' Moldova ', ' St Pierre and Miquelon ', ' Cambodia ', ' Seychelles ', ' Guyana ', ' Senegal ', ' El Salvador ', ' Guam ', ' Myanmar ', ' Madagascar ', ' Benin ', ' Saint Kitts and Nevis ', ' Martinique ', ' Vanuatu ', ' British Virgin Islands ', ' Belize ', ' Democratic Republic of the Congo ', ' Gabon ', ' New Caledonia ', ' Bhutan ', ' Faroe Islands ', ' Kyrgyzstan ', ' Gambia ', ' Syria ', ' Laos ', ' Mauritania ', ' Central Africa Republic ', ' Reunion ', ' Saint Martin ', ' Cameroon ', ' Guadeloupe ', ' Liberia ', ' Haiti ', ' Mali ', ' Saint Lucia ', ' French Guiana ', ' Swaziland ', ' Falkland Islands Malvinas ', ' Tajikistan ', ' Afghanistan ', ' Bolivia ', ' Dominica ', ' Niger ', ' Samoa ', ' Lesotho ', ' French Polynesia ', ' Grenada ', ' Wallis and Futuna ', ' Svalbard Jan Mayen ', ' Djibouti ', ' Saint Barts ', ' Kiribati ', ' Cook Islands ', ' Congo ', ' Somalia ', ' Eritrea ', ' Saint Vincent Grenadines ', ' San Marino ', ' Turkmenistan ', ' Vatican City ', ' South Sudan ', ' Anguilla ', ' Cocos K I ', ' Bonaire St Eustatius and Saba ', ' Cape Verde ', ' Northern Mariana Islands ', ' Tuvalu ', ' Guinea ', ' American Samoa ', ' Palau ']\n"
     ]
    }
   ],
   "source": [
    "print(l)"
   ]
  },
  {
   "cell_type": "code",
   "execution_count": 46,
   "metadata": {},
   "outputs": [
    {
     "name": "stderr",
     "output_type": "stream",
     "text": [
      "100%|██████████| 227/227 [00:00<00:00, 7393.74it/s]\n"
     ]
    }
   ],
   "source": [
    "n_review_score = {}\n",
    "for i in tqdm(l):\n",
    "    idx = l.index(i)\n",
    "    n_review_score[i] = sort_dict(di)[idx][1]/sort_dict(d)[idx][1]"
   ]
  },
  {
   "cell_type": "code",
   "execution_count": 47,
   "metadata": {
    "scrolled": true
   },
   "outputs": [],
   "source": [
    "country_score = sort_dict(n_review_score)"
   ]
  },
  {
   "cell_type": "code",
   "execution_count": 48,
   "metadata": {},
   "outputs": [
    {
     "data": {
      "image/png": "[encoded data removed]",
      "text/plain": [
       "<Figure size 432x288 with 1 Axes>"
      ]
     },
     "metadata": {
      "needs_background": "light"
     },
     "output_type": "display_data"
    }
   ],
   "source": [
    "x, y = zip(*country_score) # unpack a list of pairs into two tuples\n",
    "\n",
    "plt.plot(x, y)\n",
    "plt.show()"
   ]
  },
  {
   "cell_type": "code",
   "execution_count": 49,
   "metadata": {},
   "outputs": [
    {
     "data": {
      "text/plain": [
       "Hotel_Address                                 1 2 Serjeant s Inn Fleet Street City of London...\n",
       "Additional_Number_of_Scoring                                                                639\n",
       "Review_Date                                                                           2/24/2017\n",
       "Average_Score                                                                               9.2\n",
       "Hotel_Name                                                              Apex Temple Court Hotel\n",
       "Reviewer_Nationality                                                                   Germany \n",
       "Negative_Review                                                                     No Negative\n",
       "Review_Total_Negative_Word_Counts                                                             0\n",
       "Total_Number_of_Reviews                                                                    2619\n",
       "Positive_Review                                I spend the weekend in the Apex Hotel with my...\n",
       "Review_Total_Positive_Word_Counts                                                            51\n",
       "Total_Number_of_Reviews_Reviewer_Has_Given                                                    1\n",
       "Reviewer_Score                                                                               10\n",
       "Tags                                          [' Leisure trip ', ' Couple ', ' City King Roo...\n",
       "days_since_review                                                                       160 day\n",
       "lat                                                                                     51.5137\n",
       "lng                                                                                   -0.108751\n",
       "Name: 1011, dtype: object"
      ]
     },
     "execution_count": 49,
     "metadata": {},
     "output_type": "execute_result"
    }
   ],
   "source": [
    "dataset.iloc[1011]"
   ]
  },
  {
   "cell_type": "code",
   "execution_count": 50,
   "metadata": {},
   "outputs": [
    {
     "data": {
      "text/plain": [
       "Timestamp('2017-02-24 00:00:00')"
      ]
     },
     "execution_count": 50,
     "metadata": {},
     "output_type": "execute_result"
    }
   ],
   "source": [
    "pandas.to_datetime('2/24/2017')"
   ]
  },
  {
   "cell_type": "code",
   "execution_count": 51,
   "metadata": {},
   "outputs": [],
   "source": [
    "data = [1]*(len(dataset))\n",
    "count = pandas.DataFrame(data, columns = ['Count']) "
   ]
  },
  {
   "cell_type": "code",
   "execution_count": 52,
   "metadata": {
    "scrolled": true
   },
   "outputs": [
    {
     "data": {
      "text/html": [
       "<div>\n",
       "<style scoped>\n",
       "    .dataframe tbody tr th:only-of-type {\n",
       "        vertical-align: middle;\n",
       "    }\n",
       "\n",
       "    .dataframe tbody tr th {\n",
       "        vertical-align: top;\n",
       "    }\n",
       "\n",
       "    .dataframe thead th {\n",
       "        text-align: right;\n",
       "    }\n",
       "</style>\n",
       "<table border=\"1\" class=\"dataframe\">\n",
       "  <thead>\n",
       "    <tr style=\"text-align: right;\">\n",
       "      <th></th>\n",
       "      <th>Reviewer_Score</th>\n",
       "      <th>Count</th>\n",
       "    </tr>\n",
       "    <tr>\n",
       "      <th>Review_Date</th>\n",
       "      <th></th>\n",
       "      <th></th>\n",
       "    </tr>\n",
       "  </thead>\n",
       "  <tbody>\n",
       "    <tr>\n",
       "      <th>8/3/2017</th>\n",
       "      <td>2.9</td>\n",
       "      <td>1</td>\n",
       "    </tr>\n",
       "    <tr>\n",
       "      <th>8/3/2017</th>\n",
       "      <td>7.5</td>\n",
       "      <td>1</td>\n",
       "    </tr>\n",
       "    <tr>\n",
       "      <th>7/31/2017</th>\n",
       "      <td>7.1</td>\n",
       "      <td>1</td>\n",
       "    </tr>\n",
       "    <tr>\n",
       "      <th>7/31/2017</th>\n",
       "      <td>3.8</td>\n",
       "      <td>1</td>\n",
       "    </tr>\n",
       "    <tr>\n",
       "      <th>7/24/2017</th>\n",
       "      <td>6.7</td>\n",
       "      <td>1</td>\n",
       "    </tr>\n",
       "    <tr>\n",
       "      <th>7/24/2017</th>\n",
       "      <td>6.7</td>\n",
       "      <td>1</td>\n",
       "    </tr>\n",
       "    <tr>\n",
       "      <th>7/17/2017</th>\n",
       "      <td>4.6</td>\n",
       "      <td>1</td>\n",
       "    </tr>\n",
       "    <tr>\n",
       "      <th>7/17/2017</th>\n",
       "      <td>10.0</td>\n",
       "      <td>1</td>\n",
       "    </tr>\n",
       "    <tr>\n",
       "      <th>7/9/2017</th>\n",
       "      <td>6.5</td>\n",
       "      <td>1</td>\n",
       "    </tr>\n",
       "    <tr>\n",
       "      <th>7/8/2017</th>\n",
       "      <td>7.9</td>\n",
       "      <td>1</td>\n",
       "    </tr>\n",
       "    <tr>\n",
       "      <th>7/7/2017</th>\n",
       "      <td>10.0</td>\n",
       "      <td>1</td>\n",
       "    </tr>\n",
       "    <tr>\n",
       "      <th>7/6/2017</th>\n",
       "      <td>5.8</td>\n",
       "      <td>1</td>\n",
       "    </tr>\n",
       "    <tr>\n",
       "      <th>7/6/2017</th>\n",
       "      <td>4.6</td>\n",
       "      <td>1</td>\n",
       "    </tr>\n",
       "    <tr>\n",
       "      <th>7/4/2017</th>\n",
       "      <td>9.2</td>\n",
       "      <td>1</td>\n",
       "    </tr>\n",
       "    <tr>\n",
       "      <th>7/4/2017</th>\n",
       "      <td>8.8</td>\n",
       "      <td>1</td>\n",
       "    </tr>\n",
       "    <tr>\n",
       "      <th>7/3/2017</th>\n",
       "      <td>10.0</td>\n",
       "      <td>1</td>\n",
       "    </tr>\n",
       "    <tr>\n",
       "      <th>7/3/2017</th>\n",
       "      <td>6.3</td>\n",
       "      <td>1</td>\n",
       "    </tr>\n",
       "    <tr>\n",
       "      <th>6/30/2017</th>\n",
       "      <td>7.5</td>\n",
       "      <td>1</td>\n",
       "    </tr>\n",
       "    <tr>\n",
       "      <th>6/29/2017</th>\n",
       "      <td>7.1</td>\n",
       "      <td>1</td>\n",
       "    </tr>\n",
       "    <tr>\n",
       "      <th>6/20/2017</th>\n",
       "      <td>7.5</td>\n",
       "      <td>1</td>\n",
       "    </tr>\n",
       "    <tr>\n",
       "      <th>6/19/2017</th>\n",
       "      <td>6.3</td>\n",
       "      <td>1</td>\n",
       "    </tr>\n",
       "    <tr>\n",
       "      <th>6/12/2017</th>\n",
       "      <td>3.8</td>\n",
       "      <td>1</td>\n",
       "    </tr>\n",
       "    <tr>\n",
       "      <th>6/10/2017</th>\n",
       "      <td>5.4</td>\n",
       "      <td>1</td>\n",
       "    </tr>\n",
       "    <tr>\n",
       "      <th>5/29/2017</th>\n",
       "      <td>9.6</td>\n",
       "      <td>1</td>\n",
       "    </tr>\n",
       "    <tr>\n",
       "      <th>5/27/2017</th>\n",
       "      <td>9.6</td>\n",
       "      <td>1</td>\n",
       "    </tr>\n",
       "    <tr>\n",
       "      <th>5/25/2017</th>\n",
       "      <td>8.3</td>\n",
       "      <td>1</td>\n",
       "    </tr>\n",
       "    <tr>\n",
       "      <th>5/25/2017</th>\n",
       "      <td>9.6</td>\n",
       "      <td>1</td>\n",
       "    </tr>\n",
       "    <tr>\n",
       "      <th>5/22/2017</th>\n",
       "      <td>8.3</td>\n",
       "      <td>1</td>\n",
       "    </tr>\n",
       "    <tr>\n",
       "      <th>5/21/2017</th>\n",
       "      <td>8.3</td>\n",
       "      <td>1</td>\n",
       "    </tr>\n",
       "    <tr>\n",
       "      <th>5/16/2017</th>\n",
       "      <td>9.2</td>\n",
       "      <td>1</td>\n",
       "    </tr>\n",
       "    <tr>\n",
       "      <th>...</th>\n",
       "      <td>...</td>\n",
       "      <td>...</td>\n",
       "    </tr>\n",
       "    <tr>\n",
       "      <th>4/29/2016</th>\n",
       "      <td>8.8</td>\n",
       "      <td>1</td>\n",
       "    </tr>\n",
       "    <tr>\n",
       "      <th>4/29/2016</th>\n",
       "      <td>7.9</td>\n",
       "      <td>1</td>\n",
       "    </tr>\n",
       "    <tr>\n",
       "      <th>4/28/2016</th>\n",
       "      <td>9.2</td>\n",
       "      <td>1</td>\n",
       "    </tr>\n",
       "    <tr>\n",
       "      <th>4/24/2016</th>\n",
       "      <td>10.0</td>\n",
       "      <td>1</td>\n",
       "    </tr>\n",
       "    <tr>\n",
       "      <th>4/19/2016</th>\n",
       "      <td>8.8</td>\n",
       "      <td>1</td>\n",
       "    </tr>\n",
       "    <tr>\n",
       "      <th>4/17/2016</th>\n",
       "      <td>7.1</td>\n",
       "      <td>1</td>\n",
       "    </tr>\n",
       "    <tr>\n",
       "      <th>4/14/2016</th>\n",
       "      <td>9.6</td>\n",
       "      <td>1</td>\n",
       "    </tr>\n",
       "    <tr>\n",
       "      <th>3/30/2016</th>\n",
       "      <td>8.8</td>\n",
       "      <td>1</td>\n",
       "    </tr>\n",
       "    <tr>\n",
       "      <th>2/1/2016</th>\n",
       "      <td>7.1</td>\n",
       "      <td>1</td>\n",
       "    </tr>\n",
       "    <tr>\n",
       "      <th>1/3/2016</th>\n",
       "      <td>7.9</td>\n",
       "      <td>1</td>\n",
       "    </tr>\n",
       "    <tr>\n",
       "      <th>1/2/2016</th>\n",
       "      <td>9.2</td>\n",
       "      <td>1</td>\n",
       "    </tr>\n",
       "    <tr>\n",
       "      <th>12/10/2015</th>\n",
       "      <td>8.3</td>\n",
       "      <td>1</td>\n",
       "    </tr>\n",
       "    <tr>\n",
       "      <th>12/9/2015</th>\n",
       "      <td>9.2</td>\n",
       "      <td>1</td>\n",
       "    </tr>\n",
       "    <tr>\n",
       "      <th>12/8/2015</th>\n",
       "      <td>6.7</td>\n",
       "      <td>1</td>\n",
       "    </tr>\n",
       "    <tr>\n",
       "      <th>11/26/2015</th>\n",
       "      <td>6.3</td>\n",
       "      <td>1</td>\n",
       "    </tr>\n",
       "    <tr>\n",
       "      <th>11/15/2015</th>\n",
       "      <td>8.8</td>\n",
       "      <td>1</td>\n",
       "    </tr>\n",
       "    <tr>\n",
       "      <th>10/27/2015</th>\n",
       "      <td>8.3</td>\n",
       "      <td>1</td>\n",
       "    </tr>\n",
       "    <tr>\n",
       "      <th>10/23/2015</th>\n",
       "      <td>7.1</td>\n",
       "      <td>1</td>\n",
       "    </tr>\n",
       "    <tr>\n",
       "      <th>9/28/2015</th>\n",
       "      <td>5.4</td>\n",
       "      <td>1</td>\n",
       "    </tr>\n",
       "    <tr>\n",
       "      <th>9/27/2015</th>\n",
       "      <td>5.8</td>\n",
       "      <td>1</td>\n",
       "    </tr>\n",
       "    <tr>\n",
       "      <th>9/27/2015</th>\n",
       "      <td>4.2</td>\n",
       "      <td>1</td>\n",
       "    </tr>\n",
       "    <tr>\n",
       "      <th>9/26/2015</th>\n",
       "      <td>10.0</td>\n",
       "      <td>1</td>\n",
       "    </tr>\n",
       "    <tr>\n",
       "      <th>9/20/2015</th>\n",
       "      <td>6.7</td>\n",
       "      <td>1</td>\n",
       "    </tr>\n",
       "    <tr>\n",
       "      <th>9/7/2015</th>\n",
       "      <td>7.5</td>\n",
       "      <td>1</td>\n",
       "    </tr>\n",
       "    <tr>\n",
       "      <th>9/6/2015</th>\n",
       "      <td>10.0</td>\n",
       "      <td>1</td>\n",
       "    </tr>\n",
       "    <tr>\n",
       "      <th>8/30/2015</th>\n",
       "      <td>7.0</td>\n",
       "      <td>1</td>\n",
       "    </tr>\n",
       "    <tr>\n",
       "      <th>8/22/2015</th>\n",
       "      <td>5.8</td>\n",
       "      <td>1</td>\n",
       "    </tr>\n",
       "    <tr>\n",
       "      <th>8/19/2015</th>\n",
       "      <td>2.5</td>\n",
       "      <td>1</td>\n",
       "    </tr>\n",
       "    <tr>\n",
       "      <th>8/17/2015</th>\n",
       "      <td>8.8</td>\n",
       "      <td>1</td>\n",
       "    </tr>\n",
       "    <tr>\n",
       "      <th>8/9/2015</th>\n",
       "      <td>8.3</td>\n",
       "      <td>1</td>\n",
       "    </tr>\n",
       "  </tbody>\n",
       "</table>\n",
       "<p>515738 rows × 2 columns</p>\n",
       "</div>"
      ],
      "text/plain": [
       "             Reviewer_Score  Count\n",
       "Review_Date                       \n",
       "8/3/2017                2.9      1\n",
       "8/3/2017                7.5      1\n",
       "7/31/2017               7.1      1\n",
       "7/31/2017               3.8      1\n",
       "7/24/2017               6.7      1\n",
       "7/24/2017               6.7      1\n",
       "7/17/2017               4.6      1\n",
       "7/17/2017              10.0      1\n",
       "7/9/2017                6.5      1\n",
       "7/8/2017                7.9      1\n",
       "7/7/2017               10.0      1\n",
       "7/6/2017                5.8      1\n",
       "7/6/2017                4.6      1\n",
       "7/4/2017                9.2      1\n",
       "7/4/2017                8.8      1\n",
       "7/3/2017               10.0      1\n",
       "7/3/2017                6.3      1\n",
       "6/30/2017               7.5      1\n",
       "6/29/2017               7.1      1\n",
       "6/20/2017               7.5      1\n",
       "6/19/2017               6.3      1\n",
       "6/12/2017               3.8      1\n",
       "6/10/2017               5.4      1\n",
       "5/29/2017               9.6      1\n",
       "5/27/2017               9.6      1\n",
       "5/25/2017               8.3      1\n",
       "5/25/2017               9.6      1\n",
       "5/22/2017               8.3      1\n",
       "5/21/2017               8.3      1\n",
       "5/16/2017               9.2      1\n",
       "...                     ...    ...\n",
       "4/29/2016               8.8      1\n",
       "4/29/2016               7.9      1\n",
       "4/28/2016               9.2      1\n",
       "4/24/2016              10.0      1\n",
       "4/19/2016               8.8      1\n",
       "4/17/2016               7.1      1\n",
       "4/14/2016               9.6      1\n",
       "3/30/2016               8.8      1\n",
       "2/1/2016                7.1      1\n",
       "1/3/2016                7.9      1\n",
       "1/2/2016                9.2      1\n",
       "12/10/2015              8.3      1\n",
       "12/9/2015               9.2      1\n",
       "12/8/2015               6.7      1\n",
       "11/26/2015              6.3      1\n",
       "11/15/2015              8.8      1\n",
       "10/27/2015              8.3      1\n",
       "10/23/2015              7.1      1\n",
       "9/28/2015               5.4      1\n",
       "9/27/2015               5.8      1\n",
       "9/27/2015               4.2      1\n",
       "9/26/2015              10.0      1\n",
       "9/20/2015               6.7      1\n",
       "9/7/2015                7.5      1\n",
       "9/6/2015               10.0      1\n",
       "8/30/2015               7.0      1\n",
       "8/22/2015               5.8      1\n",
       "8/19/2015               2.5      1\n",
       "8/17/2015               8.8      1\n",
       "8/9/2015                8.3      1\n",
       "\n",
       "[515738 rows x 2 columns]"
      ]
     },
     "execution_count": 52,
     "metadata": {},
     "output_type": "execute_result"
    }
   ],
   "source": [
    "date_review = dataset[['Review_Date', 'Reviewer_Score']]\n",
    "date_review = pandas.concat([date_review, count], axis=1, sort=False)\n",
    "date_review = date_review.set_index('Review_Date')\n",
    "date_review"
   ]
  },
  {
   "cell_type": "code",
   "execution_count": 53,
   "metadata": {},
   "outputs": [
    {
     "data": {
      "text/html": [
       "<div>\n",
       "<style scoped>\n",
       "    .dataframe tbody tr th:only-of-type {\n",
       "        vertical-align: middle;\n",
       "    }\n",
       "\n",
       "    .dataframe tbody tr th {\n",
       "        vertical-align: top;\n",
       "    }\n",
       "\n",
       "    .dataframe thead th {\n",
       "        text-align: right;\n",
       "    }\n",
       "</style>\n",
       "<table border=\"1\" class=\"dataframe\">\n",
       "  <thead>\n",
       "    <tr style=\"text-align: right;\">\n",
       "      <th></th>\n",
       "      <th>Reviewer_Score</th>\n",
       "      <th>Count</th>\n",
       "    </tr>\n",
       "    <tr>\n",
       "      <th>Review_Date</th>\n",
       "      <th></th>\n",
       "      <th></th>\n",
       "    </tr>\n",
       "  </thead>\n",
       "  <tbody>\n",
       "    <tr>\n",
       "      <th>8/3/2017</th>\n",
       "      <td>2.9</td>\n",
       "      <td>1</td>\n",
       "    </tr>\n",
       "    <tr>\n",
       "      <th>8/3/2017</th>\n",
       "      <td>7.5</td>\n",
       "      <td>1</td>\n",
       "    </tr>\n",
       "    <tr>\n",
       "      <th>7/31/2017</th>\n",
       "      <td>7.1</td>\n",
       "      <td>1</td>\n",
       "    </tr>\n",
       "    <tr>\n",
       "      <th>7/31/2017</th>\n",
       "      <td>3.8</td>\n",
       "      <td>1</td>\n",
       "    </tr>\n",
       "    <tr>\n",
       "      <th>7/24/2017</th>\n",
       "      <td>6.7</td>\n",
       "      <td>1</td>\n",
       "    </tr>\n",
       "  </tbody>\n",
       "</table>\n",
       "</div>"
      ],
      "text/plain": [
       "             Reviewer_Score  Count\n",
       "Review_Date                       \n",
       "8/3/2017                2.9      1\n",
       "8/3/2017                7.5      1\n",
       "7/31/2017               7.1      1\n",
       "7/31/2017               3.8      1\n",
       "7/24/2017               6.7      1"
      ]
     },
     "execution_count": 53,
     "metadata": {},
     "output_type": "execute_result"
    }
   ],
   "source": [
    "date_review.head(5)"
   ]
  },
  {
   "cell_type": "code",
   "execution_count": 54,
   "metadata": {},
   "outputs": [
    {
     "data": {
      "text/plain": [
       "Index(['8/3/2017', '8/3/2017', '7/31/2017', '7/31/2017', '7/24/2017',\n",
       "       '7/24/2017', '7/17/2017', '7/17/2017', '7/9/2017', '7/8/2017',\n",
       "       ...\n",
       "       '9/27/2015', '9/26/2015', '9/20/2015', '9/7/2015', '9/6/2015',\n",
       "       '8/30/2015', '8/22/2015', '8/19/2015', '8/17/2015', '8/9/2015'],\n",
       "      dtype='object', name='Review_Date', length=515738)"
      ]
     },
     "execution_count": 54,
     "metadata": {},
     "output_type": "execute_result"
    }
   ],
   "source": [
    "date_review.index"
   ]
  },
  {
   "cell_type": "code",
   "execution_count": 55,
   "metadata": {},
   "outputs": [],
   "source": [
    "date_review.index = pandas.to_datetime(date_review.index)"
   ]
  },
  {
   "cell_type": "code",
   "execution_count": 56,
   "metadata": {},
   "outputs": [
    {
     "data": {
      "text/plain": [
       "DatetimeIndex(['2017-08-03', '2017-08-03', '2017-07-31', '2017-07-31',\n",
       "               '2017-07-24', '2017-07-24', '2017-07-17', '2017-07-17',\n",
       "               '2017-07-09', '2017-07-08',\n",
       "               ...\n",
       "               '2015-09-27', '2015-09-26', '2015-09-20', '2015-09-07',\n",
       "               '2015-09-06', '2015-08-30', '2015-08-22', '2015-08-19',\n",
       "               '2015-08-17', '2015-08-09'],\n",
       "              dtype='datetime64[ns]', name='Review_Date', length=515738, freq=None)"
      ]
     },
     "execution_count": 56,
     "metadata": {},
     "output_type": "execute_result"
    }
   ],
   "source": [
    "date_review.index"
   ]
  },
  {
   "cell_type": "code",
   "execution_count": 57,
   "metadata": {},
   "outputs": [
    {
     "data": {
      "text/html": [
       "<div>\n",
       "<style scoped>\n",
       "    .dataframe tbody tr th:only-of-type {\n",
       "        vertical-align: middle;\n",
       "    }\n",
       "\n",
       "    .dataframe tbody tr th {\n",
       "        vertical-align: top;\n",
       "    }\n",
       "\n",
       "    .dataframe thead th {\n",
       "        text-align: right;\n",
       "    }\n",
       "</style>\n",
       "<table border=\"1\" class=\"dataframe\">\n",
       "  <thead>\n",
       "    <tr style=\"text-align: right;\">\n",
       "      <th></th>\n",
       "      <th>Reviewer_Score</th>\n",
       "      <th>Count</th>\n",
       "      <th>Year</th>\n",
       "      <th>Month</th>\n",
       "      <th>WeekDay Name</th>\n",
       "    </tr>\n",
       "    <tr>\n",
       "      <th>Review_Date</th>\n",
       "      <th></th>\n",
       "      <th></th>\n",
       "      <th></th>\n",
       "      <th></th>\n",
       "      <th></th>\n",
       "    </tr>\n",
       "  </thead>\n",
       "  <tbody>\n",
       "    <tr>\n",
       "      <th>2017-07-14</th>\n",
       "      <td>5.0</td>\n",
       "      <td>1</td>\n",
       "      <td>2017</td>\n",
       "      <td>7</td>\n",
       "      <td>Friday</td>\n",
       "    </tr>\n",
       "    <tr>\n",
       "      <th>2016-10-03</th>\n",
       "      <td>8.8</td>\n",
       "      <td>1</td>\n",
       "      <td>2016</td>\n",
       "      <td>10</td>\n",
       "      <td>Monday</td>\n",
       "    </tr>\n",
       "    <tr>\n",
       "      <th>2017-06-27</th>\n",
       "      <td>7.5</td>\n",
       "      <td>1</td>\n",
       "      <td>2017</td>\n",
       "      <td>6</td>\n",
       "      <td>Tuesday</td>\n",
       "    </tr>\n",
       "    <tr>\n",
       "      <th>2016-06-21</th>\n",
       "      <td>9.2</td>\n",
       "      <td>1</td>\n",
       "      <td>2016</td>\n",
       "      <td>6</td>\n",
       "      <td>Tuesday</td>\n",
       "    </tr>\n",
       "    <tr>\n",
       "      <th>2016-09-17</th>\n",
       "      <td>7.9</td>\n",
       "      <td>1</td>\n",
       "      <td>2016</td>\n",
       "      <td>9</td>\n",
       "      <td>Saturday</td>\n",
       "    </tr>\n",
       "  </tbody>\n",
       "</table>\n",
       "</div>"
      ],
      "text/plain": [
       "             Reviewer_Score  Count  Year  Month WeekDay Name\n",
       "Review_Date                                                 \n",
       "2017-07-14              5.0      1  2017      7       Friday\n",
       "2016-10-03              8.8      1  2016     10       Monday\n",
       "2017-06-27              7.5      1  2017      6      Tuesday\n",
       "2016-06-21              9.2      1  2016      6      Tuesday\n",
       "2016-09-17              7.9      1  2016      9     Saturday"
      ]
     },
     "execution_count": 57,
     "metadata": {},
     "output_type": "execute_result"
    }
   ],
   "source": [
    "date_review['Year'] = date_review.index.year\n",
    "date_review['Month'] = date_review.index.month\n",
    "date_review['WeekDay Name'] = date_review.index.weekday_name\n",
    "date_review.sample(5, random_state=0)"
   ]
  },
  {
   "cell_type": "code",
   "execution_count": 58,
   "metadata": {},
   "outputs": [],
   "source": [
    "sns.set(rc={'figure.figsize':(15, 4)})"
   ]
  },
  {
   "cell_type": "code",
   "execution_count": 59,
   "metadata": {},
   "outputs": [
    {
     "data": {
      "image/png": "[encoded data removed]",
      "text/plain": [
       "<Figure size 1080x288 with 1 Axes>"
      ]
     },
     "metadata": {},
     "output_type": "display_data"
    }
   ],
   "source": [
    "date_review.loc['2016-01':'2016-03', 'Reviewer_Score'].plot(linewidth=0.9);"
   ]
  },
  {
   "cell_type": "code",
   "execution_count": 60,
   "metadata": {},
   "outputs": [
    {
     "data": {
      "text/plain": [
       "<matplotlib.axes._subplots.AxesSubplot at 0x7f594b3fa080>"
      ]
     },
     "execution_count": 60,
     "metadata": {},
     "output_type": "execute_result"
    },
    {
     "data": {
      "image/png": "[encoded data removed]",
      "text/plain": [
       "<Figure size 1080x288 with 1 Axes>"
      ]
     },
     "metadata": {},
     "output_type": "display_data"
    }
   ],
   "source": [
    "sns.boxplot(data=date_review, x='Month', y='Reviewer_Score')"
   ]
  },
  {
   "cell_type": "code",
   "execution_count": 61,
   "metadata": {},
   "outputs": [
    {
     "data": {
      "image/png": "[encoded data removed]",
      "text/plain": [
       "<Figure size 1080x288 with 1 Axes>"
      ]
     },
     "metadata": {},
     "output_type": "display_data"
    }
   ],
   "source": [
    "sns.boxplot(data= date_review, x='WeekDay Name', y='Reviewer_Score');"
   ]
  },
  {
   "cell_type": "code",
   "execution_count": 62,
   "metadata": {},
   "outputs": [
    {
     "data": {
      "text/plain": [
       "Review_Date\n",
       "2015-08-09    8.319059\n",
       "2015-08-16    8.398819\n",
       "2015-08-23    8.360133\n",
       "2015-08-30    8.429600\n",
       "2015-09-06    8.414132\n",
       "Freq: W-SUN, Name: Reviewer_Score, dtype: float64"
      ]
     },
     "execution_count": 62,
     "metadata": {},
     "output_type": "execute_result"
    }
   ],
   "source": [
    "date_review_weekly_mean = date_review['Reviewer_Score'].resample('W').mean()\n",
    "date_review_weekly_mean.head()"
   ]
  },
  {
   "cell_type": "code",
   "execution_count": 63,
   "metadata": {},
   "outputs": [
    {
     "data": {
      "image/png": "[encoded data removed]",
      "text/plain": [
       "<Figure size 1080x288 with 1 Axes>"
      ]
     },
     "metadata": {},
     "output_type": "display_data"
    }
   ],
   "source": [
    "# Start and end of the date range to extract\n",
    "start, end = '2016-01-01', '2016-01-10'\n",
    "# Plot daily and weekly resampled time series together\n",
    "fig, ax = plt.subplots()\n",
    "ax.plot(date_review.loc[start:end, 'Reviewer_Score'],marker='.', linestyle='-', linewidth=0.5, label='Daily')\n",
    "ax.plot(date_review_weekly_mean.loc[start:end],marker='o', markersize=8, linestyle='-', label='Weekly Mean Resample')\n",
    "ax.set_ylabel('Reviewer_Score')\n",
    "ax.legend();"
   ]
  },
  {
   "cell_type": "code",
   "execution_count": 64,
   "metadata": {},
   "outputs": [
    {
     "data": {
      "text/html": [
       "<div>\n",
       "<style scoped>\n",
       "    .dataframe tbody tr th:only-of-type {\n",
       "        vertical-align: middle;\n",
       "    }\n",
       "\n",
       "    .dataframe tbody tr th {\n",
       "        vertical-align: top;\n",
       "    }\n",
       "\n",
       "    .dataframe thead th {\n",
       "        text-align: right;\n",
       "    }\n",
       "</style>\n",
       "<table border=\"1\" class=\"dataframe\">\n",
       "  <thead>\n",
       "    <tr style=\"text-align: right;\">\n",
       "      <th></th>\n",
       "      <th>Reviewer_Score</th>\n",
       "      <th>Review_Count</th>\n",
       "    </tr>\n",
       "    <tr>\n",
       "      <th>Review_Date</th>\n",
       "      <th></th>\n",
       "      <th></th>\n",
       "    </tr>\n",
       "  </thead>\n",
       "  <tbody>\n",
       "    <tr>\n",
       "      <th>2015-08-31</th>\n",
       "      <td>8.378059</td>\n",
       "      <td>19320</td>\n",
       "    </tr>\n",
       "    <tr>\n",
       "      <th>2015-09-30</th>\n",
       "      <td>8.255558</td>\n",
       "      <td>19738</td>\n",
       "    </tr>\n",
       "    <tr>\n",
       "      <th>2015-10-31</th>\n",
       "      <td>8.195710</td>\n",
       "      <td>19486</td>\n",
       "    </tr>\n",
       "    <tr>\n",
       "      <th>2015-11-30</th>\n",
       "      <td>8.316388</td>\n",
       "      <td>18056</td>\n",
       "    </tr>\n",
       "    <tr>\n",
       "      <th>2015-12-31</th>\n",
       "      <td>8.466291</td>\n",
       "      <td>17927</td>\n",
       "    </tr>\n",
       "  </tbody>\n",
       "</table>\n",
       "</div>"
      ],
      "text/plain": [
       "             Reviewer_Score  Review_Count\n",
       "Review_Date                              \n",
       "2015-08-31         8.378059         19320\n",
       "2015-09-30         8.255558         19738\n",
       "2015-10-31         8.195710         19486\n",
       "2015-11-30         8.316388         18056\n",
       "2015-12-31         8.466291         17927"
      ]
     },
     "execution_count": 64,
     "metadata": {},
     "output_type": "execute_result"
    }
   ],
   "source": [
    "date_review_monthly = pandas.DataFrame()\n",
    "date_review_monthly['Reviewer_Score'] = date_review['Reviewer_Score'].resample('M').mean()\n",
    "date_review_monthly['Review_Count'] = date_review['Count'].resample('M').sum()\n",
    "date_review_monthly.head()"
   ]
  },
  {
   "cell_type": "code",
   "execution_count": 65,
   "metadata": {
    "scrolled": false
   },
   "outputs": [
    {
     "data": {
      "image/png": "[encoded data removed]",
      "text/plain": [
       "<Figure size 1080x288 with 1 Axes>"
      ]
     },
     "metadata": {},
     "output_type": "display_data"
    }
   ],
   "source": [
    "fig, ax = plt.subplots()\n",
    "ax.plot(date_review_monthly['Reviewer_Score'], color='blue', label='Reviewer_Score')\n",
    "ax.legend()\n",
    "ax.set_ylabel('Monthly Score (Average)');"
   ]
  },
  {
   "cell_type": "code",
   "execution_count": 66,
   "metadata": {},
   "outputs": [
    {
     "data": {
      "text/plain": [
       "[<matplotlib.lines.Line2D at 0x7f59280b3da0>]"
      ]
     },
     "execution_count": 66,
     "metadata": {},
     "output_type": "execute_result"
    },
    {
     "data": {
      "image/png": "[encoded data removed]",
      "text/plain": [
       "<Figure size 1080x288 with 1 Axes>"
      ]
     },
     "metadata": {},
     "output_type": "display_data"
    }
   ],
   "source": [
    "fig, ax = plt.subplots()\n",
    "ax.plot(date_review_monthly['Review_Count'], color='red', label='Review_Count')"
   ]
  },
  {
   "cell_type": "code",
   "execution_count": 85,
   "metadata": {},
   "outputs": [],
   "source": [
    "df = date_review_monthly\n",
    "normalized_date_review_monthly = (df - df.min())/(df.max() - df.min())"
   ]
  },
  {
   "cell_type": "code",
   "execution_count": 86,
   "metadata": {},
   "outputs": [
    {
     "data": {
      "image/png": "[encoded data removed]",
      "text/plain": [
       "<Figure size 1080x288 with 1 Axes>"
      ]
     },
     "metadata": {},
     "output_type": "display_data"
    }
   ],
   "source": [
    "date_review_monthly = normalized_date_review_monthly\n",
    "fig, ax = plt.subplots()\n",
    "ax.plot(date_review_monthly['Reviewer_Score'], color='blue', label='Reviewer_Score')\n",
    "ax.plot(date_review_monthly['Review_Count'], color='red', label='Review_Count')\n",
    "ax.legend()\n",
    "ax.set_ylabel('Monthly Score (Average)');"
   ]
  },
  {
   "cell_type": "code",
   "execution_count": 75,
   "metadata": {},
   "outputs": [
    {
     "data": {
      "text/plain": [
       "Hotel_Address                                 1 2 Serjeant s Inn Fleet Street City of London...\n",
       "Additional_Number_of_Scoring                                                                639\n",
       "Review_Date                                                                           2/24/2017\n",
       "Average_Score                                                                               9.2\n",
       "Hotel_Name                                                              Apex Temple Court Hotel\n",
       "Reviewer_Nationality                                                                   Germany \n",
       "Negative_Review                                                                     No Negative\n",
       "Review_Total_Negative_Word_Counts                                                             0\n",
       "Total_Number_of_Reviews                                                                    2619\n",
       "Positive_Review                                I spend the weekend in the Apex Hotel with my...\n",
       "Review_Total_Positive_Word_Counts                                                            51\n",
       "Total_Number_of_Reviews_Reviewer_Has_Given                                                    1\n",
       "Reviewer_Score                                                                               10\n",
       "Tags                                          [' Leisure trip ', ' Couple ', ' City King Roo...\n",
       "days_since_review                                                                       160 day\n",
       "lat                                                                                     51.5137\n",
       "lng                                                                                   -0.108751\n",
       "Name: 1011, dtype: object"
      ]
     },
     "execution_count": 75,
     "metadata": {},
     "output_type": "execute_result"
    }
   ],
   "source": [
    "dataset.iloc[1011]"
   ]
  },
  {
   "cell_type": "code",
   "execution_count": 77,
   "metadata": {},
   "outputs": [],
   "source": [
    "trip_type = pandas.DataFrame()"
   ]
  },
  {
   "cell_type": "code",
   "execution_count": 74,
   "metadata": {},
   "outputs": [
    {
     "name": "stderr",
     "output_type": "stream",
     "text": [
      "100%|██████████| 515738/515738 [03:16<00:00, 2617.99it/s]\n"
     ]
    }
   ],
   "source": [
    "#Creating list of business and leisure trips.\n",
    "business = []\n",
    "leisure = []\n",
    "for i in tqdm(range(len(dataset))):\n",
    "    if 'Leisure' in dataset.iloc[i]['Tags']:\n",
    "        leisure.append(1)\n",
    "    else:\n",
    "        leisure.append(0)\n",
    "    if 'Business' in dataset.iloc[i]['Tags']:\n",
    "        business.append(1)\n",
    "    else:\n",
    "        business.append(0)"
   ]
  },
  {
   "cell_type": "code",
   "execution_count": 78,
   "metadata": {},
   "outputs": [
    {
     "data": {
      "text/html": [
       "<div>\n",
       "<style scoped>\n",
       "    .dataframe tbody tr th:only-of-type {\n",
       "        vertical-align: middle;\n",
       "    }\n",
       "\n",
       "    .dataframe tbody tr th {\n",
       "        vertical-align: top;\n",
       "    }\n",
       "\n",
       "    .dataframe thead th {\n",
       "        text-align: right;\n",
       "    }\n",
       "</style>\n",
       "<table border=\"1\" class=\"dataframe\">\n",
       "  <thead>\n",
       "    <tr style=\"text-align: right;\">\n",
       "      <th></th>\n",
       "      <th>Review_Date</th>\n",
       "      <th>Business</th>\n",
       "      <th>Leisure</th>\n",
       "    </tr>\n",
       "  </thead>\n",
       "  <tbody>\n",
       "    <tr>\n",
       "      <th>0</th>\n",
       "      <td>8/3/2017</td>\n",
       "      <td>0</td>\n",
       "      <td>1</td>\n",
       "    </tr>\n",
       "    <tr>\n",
       "      <th>1</th>\n",
       "      <td>8/3/2017</td>\n",
       "      <td>0</td>\n",
       "      <td>1</td>\n",
       "    </tr>\n",
       "    <tr>\n",
       "      <th>2</th>\n",
       "      <td>7/31/2017</td>\n",
       "      <td>0</td>\n",
       "      <td>1</td>\n",
       "    </tr>\n",
       "    <tr>\n",
       "      <th>3</th>\n",
       "      <td>7/31/2017</td>\n",
       "      <td>0</td>\n",
       "      <td>1</td>\n",
       "    </tr>\n",
       "    <tr>\n",
       "      <th>4</th>\n",
       "      <td>7/24/2017</td>\n",
       "      <td>0</td>\n",
       "      <td>1</td>\n",
       "    </tr>\n",
       "  </tbody>\n",
       "</table>\n",
       "</div>"
      ],
      "text/plain": [
       "  Review_Date  Business  Leisure\n",
       "0    8/3/2017         0        1\n",
       "1    8/3/2017         0        1\n",
       "2   7/31/2017         0        1\n",
       "3   7/31/2017         0        1\n",
       "4   7/24/2017         0        1"
      ]
     },
     "execution_count": 78,
     "metadata": {},
     "output_type": "execute_result"
    }
   ],
   "source": [
    "trip_type['Review_Date'] = dataset['Review_Date']\n",
    "trip_type['Business'] = business\n",
    "trip_type['Leisure'] = leisure\n",
    "trip_type.head(5)"
   ]
  },
  {
   "cell_type": "code",
   "execution_count": 79,
   "metadata": {},
   "outputs": [],
   "source": [
    "trip_type = trip_type.set_index('Review_Date')\n",
    "trip_type.index = pandas.to_datetime(trip_type.index)"
   ]
  },
  {
   "cell_type": "code",
   "execution_count": 80,
   "metadata": {},
   "outputs": [
    {
     "data": {
      "text/html": [
       "<div>\n",
       "<style scoped>\n",
       "    .dataframe tbody tr th:only-of-type {\n",
       "        vertical-align: middle;\n",
       "    }\n",
       "\n",
       "    .dataframe tbody tr th {\n",
       "        vertical-align: top;\n",
       "    }\n",
       "\n",
       "    .dataframe thead th {\n",
       "        text-align: right;\n",
       "    }\n",
       "</style>\n",
       "<table border=\"1\" class=\"dataframe\">\n",
       "  <thead>\n",
       "    <tr style=\"text-align: right;\">\n",
       "      <th></th>\n",
       "      <th>Business</th>\n",
       "      <th>Leisure</th>\n",
       "    </tr>\n",
       "    <tr>\n",
       "      <th>Review_Date</th>\n",
       "      <th></th>\n",
       "      <th></th>\n",
       "    </tr>\n",
       "  </thead>\n",
       "  <tbody>\n",
       "    <tr>\n",
       "      <th>2017-08-03</th>\n",
       "      <td>0</td>\n",
       "      <td>1</td>\n",
       "    </tr>\n",
       "    <tr>\n",
       "      <th>2017-08-03</th>\n",
       "      <td>0</td>\n",
       "      <td>1</td>\n",
       "    </tr>\n",
       "    <tr>\n",
       "      <th>2017-07-31</th>\n",
       "      <td>0</td>\n",
       "      <td>1</td>\n",
       "    </tr>\n",
       "    <tr>\n",
       "      <th>2017-07-31</th>\n",
       "      <td>0</td>\n",
       "      <td>1</td>\n",
       "    </tr>\n",
       "    <tr>\n",
       "      <th>2017-07-24</th>\n",
       "      <td>0</td>\n",
       "      <td>1</td>\n",
       "    </tr>\n",
       "  </tbody>\n",
       "</table>\n",
       "</div>"
      ],
      "text/plain": [
       "             Business  Leisure\n",
       "Review_Date                   \n",
       "2017-08-03          0        1\n",
       "2017-08-03          0        1\n",
       "2017-07-31          0        1\n",
       "2017-07-31          0        1\n",
       "2017-07-24          0        1"
      ]
     },
     "execution_count": 80,
     "metadata": {},
     "output_type": "execute_result"
    }
   ],
   "source": [
    "trip_type.head(5)"
   ]
  },
  {
   "cell_type": "code",
   "execution_count": 81,
   "metadata": {},
   "outputs": [
    {
     "data": {
      "text/html": [
       "<div>\n",
       "<style scoped>\n",
       "    .dataframe tbody tr th:only-of-type {\n",
       "        vertical-align: middle;\n",
       "    }\n",
       "\n",
       "    .dataframe tbody tr th {\n",
       "        vertical-align: top;\n",
       "    }\n",
       "\n",
       "    .dataframe thead th {\n",
       "        text-align: right;\n",
       "    }\n",
       "</style>\n",
       "<table border=\"1\" class=\"dataframe\">\n",
       "  <thead>\n",
       "    <tr style=\"text-align: right;\">\n",
       "      <th></th>\n",
       "      <th>Leisure</th>\n",
       "      <th>Business</th>\n",
       "    </tr>\n",
       "    <tr>\n",
       "      <th>Review_Date</th>\n",
       "      <th></th>\n",
       "      <th></th>\n",
       "    </tr>\n",
       "  </thead>\n",
       "  <tbody>\n",
       "    <tr>\n",
       "      <th>2015-08-31</th>\n",
       "      <td>17096</td>\n",
       "      <td>1771</td>\n",
       "    </tr>\n",
       "    <tr>\n",
       "      <th>2015-09-30</th>\n",
       "      <td>15966</td>\n",
       "      <td>3234</td>\n",
       "    </tr>\n",
       "    <tr>\n",
       "      <th>2015-10-31</th>\n",
       "      <td>15030</td>\n",
       "      <td>3955</td>\n",
       "    </tr>\n",
       "    <tr>\n",
       "      <th>2015-11-30</th>\n",
       "      <td>13324</td>\n",
       "      <td>4273</td>\n",
       "    </tr>\n",
       "    <tr>\n",
       "      <th>2015-12-31</th>\n",
       "      <td>14468</td>\n",
       "      <td>3024</td>\n",
       "    </tr>\n",
       "  </tbody>\n",
       "</table>\n",
       "</div>"
      ],
      "text/plain": [
       "             Leisure  Business\n",
       "Review_Date                   \n",
       "2015-08-31     17096      1771\n",
       "2015-09-30     15966      3234\n",
       "2015-10-31     15030      3955\n",
       "2015-11-30     13324      4273\n",
       "2015-12-31     14468      3024"
      ]
     },
     "execution_count": 81,
     "metadata": {},
     "output_type": "execute_result"
    }
   ],
   "source": [
    "#Creating Seperate dataframe for monthly leisure and business trips.\n",
    "trip_type_monthly = pandas.DataFrame()\n",
    "trip_type_monthly['Leisure'] = trip_type['Leisure'].resample('M').sum()\n",
    "trip_type_monthly['Business'] = trip_type['Business'].resample('M').sum()\n",
    "trip_type_monthly.head()"
   ]
  },
  {
   "cell_type": "code",
   "execution_count": 82,
   "metadata": {},
   "outputs": [
    {
     "data": {
      "image/png": "[encoded data removed]",
      "text/plain": [
       "<Figure size 1080x288 with 1 Axes>"
      ]
     },
     "metadata": {},
     "output_type": "display_data"
    }
   ],
   "source": [
    "#Actual value plot of monthly traffic of Leisure trip and Business Trip\n",
    "fig, ax = plt.subplots()\n",
    "ax.plot(trip_type_monthly['Business'], color='blue', label='Business')\n",
    "ax.plot(trip_type_monthly['Leisure'], color='red', label='Leisure')\n",
    "ax.legend()\n",
    "ax.set_ylabel('Monthly Traffic');"
   ]
  },
  {
   "cell_type": "code",
   "execution_count": 83,
   "metadata": {},
   "outputs": [],
   "source": [
    "df = trip_type_monthly\n",
    "normalized_trip_type_monthly = (df - df.min())/(df.max() - df.min())"
   ]
  },
  {
   "cell_type": "code",
   "execution_count": 84,
   "metadata": {},
   "outputs": [
    {
     "data": {
      "image/png": "[encoded data removed]",
      "text/plain": [
       "<Figure size 1080x288 with 1 Axes>"
      ]
     },
     "metadata": {},
     "output_type": "display_data"
    }
   ],
   "source": [
    "#Normalized value of monthly traffic of Leisure trip and Business Trip.\n",
    "trip_type_monthly = normalized_trip_type_monthly\n",
    "fig, ax = plt.subplots()\n",
    "ax.plot(trip_type_monthly['Business'], color='blue', label='Business')\n",
    "ax.plot(trip_type_monthly['Leisure'], color='red', label='Leisure')\n",
    "ax.legend()\n",
    "ax.set_ylabel('Monthly Traffic');"
   ]
  }
 ],
 "metadata": {
  "kernelspec": {
   "display_name": "Python 3",
   "language": "python",
   "name": "python3"
  },
  "language_info": {
   "codemirror_mode": {
    "name": "ipython",
    "version": 3
   },
   "file_extension": ".py",
   "mimetype": "text/x-python",
   "name": "python",
   "nbconvert_exporter": "python",
   "pygments_lexer": "ipython3",
   "version": "3.6.8"
  }
 },
 "nbformat": 4,
 "nbformat_minor": 2
}
